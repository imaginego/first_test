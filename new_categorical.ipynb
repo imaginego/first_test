{
 "cells": [
  {
   "cell_type": "code",
   "execution_count": 4,
   "metadata": {
    "collapsed": false
   },
   "outputs": [
    {
     "name": "stderr",
     "output_type": "stream",
     "text": [
      "/home/jianqi/anaconda2/envs/xgboost/lib/python2.7/site-packages/sklearn/cross_validation.py:44: DeprecationWarning: This module was deprecated in version 0.18 in favor of the model_selection module into which all the refactored classes and functions are moved. Also note that the interface of the new CV iterators are different from that of this module. This module will be removed in 0.20.\n",
      "  \"This module will be removed in 0.20.\", DeprecationWarning)\n"
     ]
    }
   ],
   "source": [
    "import os\n",
    "import sys\n",
    "import operator\n",
    "import numpy as np\n",
    "import pandas as pd\n",
    "from scipy import sparse\n",
    "import xgboost as xgb\n",
    "from xgboost import XGBClassifier,XGBRegressor\n",
    "from sklearn import model_selection, preprocessing, ensemble\n",
    "from sklearn.metrics import log_loss\n",
    "from sklearn.feature_extraction.text import TfidfVectorizer, CountVectorizer\n",
    "import hashlib\n",
    "import re\n",
    "from sklearn.model_selection import GridSearchCV,StratifiedKFold\n",
    "\n",
    "#from sklearn.preprocessing import LabelEncoder"
   ]
  },
  {
   "cell_type": "code",
   "execution_count": null,
   "metadata": {
    "collapsed": true
   },
   "outputs": [],
   "source": []
  },
  {
   "cell_type": "markdown",
   "metadata": {},
   "source": [
    "# On Column 'features' -- cleaning, transforming"
   ]
  },
  {
   "cell_type": "code",
   "execution_count": 5,
   "metadata": {
    "collapsed": true
   },
   "outputs": [],
   "source": [
    "def text_fea(df1_,df2_,nTop=300,combine=True):\n",
    "    ''' df1_ is training set\n",
    "        df2_ is test set\n",
    "    '''\n",
    "    from collections import defaultdict\n",
    "    df1 = df1_.copy() # Maybe ther eis better way to avoid SettingWithCopyWarning \n",
    "    df2 = df2_.copy()\n",
    "    df1['source'] = 1\n",
    "    df2['source'] = 2\n",
    "    df = df1.append(df2)\n",
    "    df = df.reset_index(drop=True)\n",
    "    #df['features'] = df['features'].map(lambda x:[tt.lower() for tt in x])\n",
    "    df['description'] = df['description'].map(lambda x:x.lower())\n",
    "    #---------------------------\n",
    "    #original length of the first feature, meant to capture those features typed in with wrong \n",
    "    # format -- all features are cramed into one phrase\n",
    "    df['len_feature0'] = df['features'].map(lambda x:0 if len(x)==0 else len(x[0])) \n",
    "    #-----------------------------\n",
    "    \n",
    "    def fea_clean(x): \n",
    "        if len(x) == 1:\n",
    "            tmp = x[0].strip('*').split('*')\n",
    "            if len(tmp) ==1:\n",
    "                tmp = tmp[0].split(u'\\u2022')\n",
    "            x = tmp\n",
    "        ret = [tt.encode('utf-8').decode('unicode_escape').encode('ascii','ignore').lower().strip() for tt in x]\n",
    "        return ret\n",
    "    df['features'] = df['features'].map(fea_clean)\n",
    "    \n",
    "    \n",
    "    all_fea = defaultdict(int)\n",
    "    for _,row in df.iterrows():\n",
    "        for xx in row['features']:\n",
    "            all_fea[xx] += 1\n",
    "    sorted_fea = sorted(all_fea.iteritems(),key=lambda (k,v): v,reverse=True)\n",
    "    \n",
    "    combined_fea = {'laundry in unit':['laundry in unit','in-unit washer/dryer','washer & dryer',\n",
    "                                        'washer/dryer','washer/dryer in unit'],\n",
    "                   'laundry in building':['laundry in building','laundry room',\n",
    "                                           'washer/dryer in building','on-site laundry'],\n",
    "                   'gym/fitness':['gym/fitness','fitness center','gym','gym in building'],\n",
    "                   'pre-war':['pre-war','prewar'],\n",
    "                    'live-in superintendent':['live-in superintendent','live-in super','live in super'],\n",
    "                    'hardwood floors':['hardwood floors','hardwood','hardwood floor','hardwood flooring'],\n",
    "                    'high ceiling':['high ceiling','high ceilings'],\n",
    "                    'full-time doorman':['full-time doorman','ft doorman','24/7 doorman','24 hour doorman',\n",
    "                                        '24-hour doorman','24hr doorman','full time doorman','24 hr doorman']\n",
    "                   #'garage':['garage','parking']\n",
    "                   }\n",
    "    \n",
    "    fea_list = set([v[0] for v in sorted_fea[:nTop]])\n",
    "    for k,v in combined_fea.iteritems():\n",
    "        fea_list = fea_list.union(set(v))\n",
    "    for fea in fea_list:\n",
    "        df[fea] = 0\n",
    "    #import pdb;pdb.set_trace()\n",
    "    for inx,row in df.iterrows():\n",
    "        notlist = []\n",
    "        if len(row['features']) == 0:\n",
    "            continue\n",
    "        for ff in row['features']:\n",
    "            if ff in fea_list:\n",
    "                df.set_value(inx,ff,1)\n",
    "            else:\n",
    "                notlist.append(ff)\n",
    "        #df.set_value(inx,'description',row['description'] + ' '.join(notlist))\n",
    "    print 'fea_list length is {}'.format(len(fea_list))\n",
    "    fea_list = set(fea_list)\n",
    "    if combine:        \n",
    "        for k,v in combined_fea.iteritems():\n",
    "            df[k] = df[v[0]]\n",
    "            #print k,v\n",
    "            for ii in range(1,len(v)):\n",
    "                df[k] = df[k] + df[v[ii]]\n",
    "                del df[v[ii]]\n",
    "                fea_list.remove(v[ii])\n",
    "    fea_list = list(fea_list) + ['len_feature0']\n",
    "    #print 'fea_list length is {}'.format(len(fea_list))\n",
    "    df1 = df[df['source']==1].copy()\n",
    "    df2 = df[df['source']==2].copy()\n",
    "    del df1['source']\n",
    "    del df2['source']\n",
    "    del df\n",
    "    return df1,df2,fea_list"
   ]
  },
  {
   "cell_type": "markdown",
   "metadata": {},
   "source": [
    "# Street_address and display address"
   ]
  },
  {
   "cell_type": "code",
   "execution_count": 6,
   "metadata": {
    "collapsed": true
   },
   "outputs": [],
   "source": [
    "def normalize_num(x):\n",
    "    if x[-1]=='1':\n",
    "        return x+'st'\n",
    "    elif x[-1]=='2':\n",
    "        return x+'nd'\n",
    "    elif x[-1]=='3':\n",
    "        return x+'rd'\n",
    "    else:\n",
    "        return x+'th'\n",
    "\n",
    "def normalize_street(x):\n",
    "    street_name_mapping = {'st.':'street','st':'street','st,':'street','st..':'street','street,':'street',\n",
    "                       'ave':'avenue','ave.':'avenue','ave,':'avenue','avenue,':'avenue','pl':'place',\n",
    "                       'blvd':'boulevard','pkwy':'parkway','dr':'drive','rd.':'road','rd,':'road','rd':'road',\n",
    "                       'ln':'lane',\n",
    "                       'e':'east','e.':'east','w.':'west','w':'west','west,':'west','s':'south','&':'and',\n",
    "                       'second':'2nd','first':'1st','third':'3rd','fourth':'4th','fifth':'5th',\n",
    "                       'sixth':'6th','seventh':'7th','eighth':'8th','ninth':'9th','tenth':'10th',                       \n",
    "                       #'1':'1st','2':'2nd','43':'43rd','37':'37th','34':'34th',\n",
    "                      }\n",
    "    xlist = x.lower().strip(' .,').split()\n",
    "    output = []\n",
    "    for tt in xlist:\n",
    "        tmp = tt.strip(',.*')\n",
    "        if len(tmp)>0:\n",
    "            if tmp in street_name_mapping:\n",
    "                tmp = street_name_mapping[tmp]\n",
    "            elif tmp.isdigit():\n",
    "                tmp = normalize_num(tmp)\n",
    "            else:\n",
    "                pass\n",
    "            output.append(tmp)\n",
    "    return ' '.join(output).strip()      \n",
    "\n",
    "def rem_streetname_xy(x,y):\n",
    "    '''remove x from y\n",
    "    '''\n",
    "    pos = y.find(x)\n",
    "    if pos>0:\n",
    "        tmp = y.replace(x,'').strip(' ,.')\n",
    "        tmp = tmp.split(' ')[0].strip(',. #')\n",
    "        if '-' in tmp:        \n",
    "            tmp = tmp.split('-')[0].strip(', .#')\n",
    "        try:\n",
    "            a = int(tmp)\n",
    "            return a\n",
    "        except ValueError:\n",
    "            #print tmp\n",
    "            return None\n",
    "    else:\n",
    "        return None   \n",
    "\n",
    "def rem_streetname(row):    \n",
    "    x = row['display_address']\n",
    "    y = row['street_address']\n",
    "    return rem_streetname_xy(x,y)\n",
    "\n",
    "\n",
    "def get_address_num_simple(x):\n",
    "    if len(x)==0:\n",
    "        return -1\n",
    "    \n",
    "    x1 = x.strip().split()[0]\n",
    "    if x1.isdigit():\n",
    "        return float(x1)\n",
    "    return -1\n",
    "\n",
    "def manhattan_locale(df1_,df2_):\n",
    "    '''\n",
    "    extract street or avenue number from displayed address. \n",
    "    \n",
    "    For those displayed address like 'w 3rd street and 5th avenue', all three fields will have values. \n",
    "    For a majority cases, one of the (west_east, street) or (avenue) will be null (0)\n",
    "    '''\n",
    "    \n",
    "    df1 = df1_.copy()\n",
    "    df2 = df2_.copy()\n",
    "    df1['source'] = 1\n",
    "    df2['source'] = 2\n",
    "    df = df1.append(df2)\n",
    "    df = df.reset_index(drop=True)\n",
    "    \n",
    "    ave_mapping = {'lexington avenue': '3.5 avenue',\n",
    "                  'park avenue':'4 avenue',\n",
    "                  'madison avenue':'4.5 avenue',\n",
    "                  'central park west':'8 avenue',\n",
    "                  'columbus avenue':'9 avenue',\n",
    "                  'amsterdam avenue':'10 avenue',\n",
    "                  'west end avenue':'11 avenue'\n",
    "                  }\n",
    "    addr_adjust = {'central park west':5000,\n",
    "                  'columbus avenue':5000,\n",
    "                  'amsterdam avenue':5000,\n",
    "                  'west end avenue':5000        \n",
    "                }       \n",
    "    \n",
    "    df['west_east'] = 0 #west = -1,east = 1, null=0\n",
    "    df['street_num'] = 0 # street number e.g. 12nd street will be 12, if not on a street, empty\n",
    "    df['ave_num'] = 0 #avenue number, if not on avenue, empty\n",
    "    df['addr_num_adjust'] = 0 # for several avenues \n",
    "    \n",
    "    #import pdb;pdb.set_trace()\n",
    "    \n",
    "    for inx,row in df.iterrows():\n",
    "        addr_str = ''\n",
    "        addr_ave = ''\n",
    "        \n",
    "        if ' and ' in row['display_address']:\n",
    "            ss = row['display_address'].split(' and ')\n",
    "            if len(ss)>2:\n",
    "                continue\n",
    "            if ' street' in ss[0] and ' avenue' in ss[1]:\n",
    "                addr_str = ss[0].strip()\n",
    "                addr_ave = ss[1].strip()\n",
    "            elif ' street' in ss[1] and ' avenue' in ss[0]:\n",
    "                addr_str = ss[1].strip()\n",
    "                addr_str = ss[0].strip()\n",
    "            else:\n",
    "                continue\n",
    "        else:            \n",
    "            if ' street' in row['display_address']:\n",
    "                addr_str = row['display_address'].strip()\n",
    "            if ' avenue' in row['display_address']:\n",
    "                addr_ave = row['display_address'].strip()\n",
    "        \n",
    "        if len(addr_str)>0:\n",
    "            num = re.sub('\\D+','',row['display_address'])\n",
    "            if len(num)>0:\n",
    "                fields = addr_str.split()\n",
    "                west_east = 0\n",
    "                ii=0\n",
    "                while ii < len(fields):\n",
    "                    if fields[ii].strip() == 'west':\n",
    "                        west_east = -1\n",
    "                        break\n",
    "                    elif fields[ii].strip() == 'east':\n",
    "                        west_east = 1\n",
    "                        break\n",
    "                    ii += 1\n",
    "                if ii<len(fields)-2:                    \n",
    "                    df.set_value(inx,'west_east',west_east)   \n",
    "                    try:\n",
    "                        df.set_value(inx,'street_num',float(re.sub('\\D+','',fields[ii+1])))\n",
    "                    except ValueError:\n",
    "                        pass\n",
    "                        #print addr_str\n",
    "                        #return None,None\n",
    "        if len(addr_ave)>0:\n",
    "            adjust = 0\n",
    "            if addr_ave in addr_adjust:\n",
    "                adjust = addr_adjust[addr_ave]\n",
    "            if addr_ave in ave_mapping:\n",
    "                addr_ave = ave_mapping[addr_ave]\n",
    "            try:\n",
    "                df.set_value(inx,'ave_num',float(re.sub('\\D+','',addr_ave.split()[0])))\n",
    "            except ValueError:\n",
    "                #print addr_ave\n",
    "                pass\n",
    "            df.set_value(inx,'addr_num_adjust',adjust)\n",
    "    df['address_num'] = df['address_num'] + df['addr_num_adjust']    \n",
    "    del df['addr_num_adjust']\n",
    "    df1 = df[df['source']==1].copy()\n",
    "    df2 = df[df['source']==2].copy()\n",
    "    del df1['source']\n",
    "    del df2['source']\n",
    "    del df\n",
    "    \n",
    "    fea_list = ['west_east','street_num','ave_num']\n",
    "    return df1,df2,fea_list\n",
    "    \n",
    "\n",
    "def address_proc(train_df_,test_df_):        \n",
    "    train_df = train_df_.copy()\n",
    "    test_df = test_df_.copy()\n",
    "    \n",
    "    train_df['address_num'] = train_df['street_address'].map(get_address_num_simple)\n",
    "    test_df['address_num'] = test_df['street_address'].map(get_address_num_simple)\n",
    "    train_df['display_address'] = train_df['display_address'].map(lambda x:normalize_street(x))\n",
    "    test_df['display_address'] = test_df['display_address'].map(lambda x:normalize_street(x))\n",
    "    train_df['street_address'] = train_df['street_address'].map(lambda x:normalize_street(x))\n",
    "    test_df['street_address'] = test_df['street_address'].map(lambda x:normalize_street(x))\n",
    "    \n",
    "    flist = ['address_num']\n",
    "    train_df,test_df,ff1 = manhattan_locale(train_df,test_df)\n",
    "    #train_df,test_df,ff2 = multiple_hashing(train_df,test_df,'display_address')\n",
    "    #train_df,test_df,ff2 = simple_hashing(train_df,test_df,'street_address')\n",
    "    \n",
    "    flist = flist + ff1\n",
    "    return train_df,test_df,flist"
   ]
  },
  {
   "cell_type": "markdown",
   "metadata": {},
   "source": [
    "# price quantile"
   ]
  },
  {
   "cell_type": "code",
   "execution_count": 7,
   "metadata": {
    "collapsed": true
   },
   "outputs": [],
   "source": [
    "def get_quantile_by_key(df,keys,nLevel,newcol_name):\n",
    "    #keys is a list of keys to groupby on\n",
    "    gp = df.groupby(keys)\n",
    "    levels = np.arange(0,1,1./nLevel)\n",
    "    res = pd.DataFrame()\n",
    "    \n",
    "    for inx,data in gp:\n",
    "        quantiles = [data['price'].quantile(x) for x in levels]\n",
    "        #import pdb;pdb.set_trace()\n",
    "        tmp = data.copy()\n",
    "        tmp[newcol_name] = data['price'].map(lambda x:np.searchsorted(quantiles,x))\n",
    "        \n",
    "        res = res.append(tmp)\n",
    "    #import pdb;pdb.set_trace()\n",
    "    df = res\n",
    "    return df\n",
    "\n",
    "def quantile_price(df1_,df2_,nLevel=10):\n",
    "    df1 = df1_.copy()\n",
    "    df2 = df2_.copy()\n",
    "    df1['source'] = 1\n",
    "    df2['source'] = 2\n",
    "    df = df1.append(df2)\n",
    "    df = df.reset_index(drop=True)\n",
    "    \n",
    "    df = get_quantile_by_key(df,['bedrooms','bathrooms'],nLevel,'price_quantile')\n",
    "                \n",
    "    df1 = df[df['source']==1].copy()\n",
    "    df2 = df[df['source']==2].copy()\n",
    "    del df1['source']\n",
    "    del df2['source']\n",
    "    del df\n",
    "    \n",
    "    return df1,df2,['price_quantile']\n",
    "\n",
    "def quantile_price_lat_long(df1_,df2_,step_size=0.02,nLevel=10):\n",
    "    df1 = df1_.copy()\n",
    "    df2 = df2_.copy()\n",
    "    df1['source'] = 1\n",
    "    df2['source'] = 2\n",
    "    df = df1.append(df2)\n",
    "    df = df.reset_index(drop=True)\n",
    "    \n",
    "    west, south, east, north = -74.02, 40.64, -73.85, 40.86\n",
    "    df['long_grid'] = df['longitude'].map(lambda x: int(round((x-west)/step_size)))\n",
    "    df['lat_grid'] = df['latitude'].map(lambda x:int(round((x-south)/step_size)))\n",
    "    \n",
    "    df = get_quantile_by_key(df,['long_grid','lat_grid','bedrooms','bathrooms'],nLevel,'price_quantile_lat_long')\n",
    "                \n",
    "    df1 = df[df['source']==1].copy()\n",
    "    df2 = df[df['source']==2].copy()\n",
    "    del df1['source']\n",
    "    del df2['source']\n",
    "    del df\n",
    "    \n",
    "    return df1,df2,['price_quantile_lat_long','long_grid','lat_grid']\n"
   ]
  },
  {
   "cell_type": "code",
   "execution_count": 8,
   "metadata": {
    "collapsed": false
   },
   "outputs": [],
   "source": [
    "class CategoricalFeature:\n",
    "    def __init__(self):\n",
    "        pass\n",
    "    \n",
    "    def prepare_categorical(self,df1_,df2_):\n",
    "        df1 = df1_.copy()\n",
    "        df2 = df2_.copy()\n",
    "        df1['source'] = 1\n",
    "        df2['source'] = 2\n",
    "        df = df1.append(df2)\n",
    "        df = df.reset_index(drop=True)\n",
    "    \n",
    "    #some of the building id is zero, whereas other rows with same street address have nonzero building_id\n",
    "    #nonzero = df[(df['building_id']!='0')&(df['street_address']!='')&(df['street_address'].notnull())]\n",
    "    #id_addr = nonzero.groupby('street_address')['building_id'].first().reset_index()\n",
    "    #del df['building_id']\n",
    "    #df = pd.merge(df,id_addr,on='street_address',how='left')\n",
    "    #df['building_id'] = df['building_id'].fillna('0')\n",
    "    \n",
    "    #assign those categorical data that only appear once to the same value\n",
    "        def objects_with_only_one_record(df,feature_name):\n",
    "            #import pdb;pdb.set_trace()\n",
    "            temp = df.groupby(feature_name, as_index = False).count()\n",
    "            return temp[temp['source'] == 1]\n",
    "\n",
    "        #import pdb;pdb.set_trace()\n",
    "        managers_with_one_lot = objects_with_only_one_record(df,'manager_id')\n",
    "        buildings_with_one_lot = objects_with_only_one_record(df,'building_id')\n",
    "        addresses_with_one_lot = objects_with_only_one_record(df,'display_address')\n",
    "\n",
    "        df.loc[df['manager_id'].isin(managers_with_one_lot['manager_id'].ravel()), \n",
    "          'manager_id'] = \"once\"\n",
    "        df.loc[df['building_id'].isin(buildings_with_one_lot['building_id'].ravel()), \n",
    "          'building_id'] = \"once\"\n",
    "        df.loc[df['display_address'].isin(addresses_with_one_lot['display_address'].ravel()), \n",
    "          'display_address'] = \"once\"\n",
    "                \n",
    "        df1 = df[df['source']==1].copy()\n",
    "        df2 = df[df['source']==2].copy()\n",
    "        del df1['source']\n",
    "        del df2['source']\n",
    "        del df\n",
    "    \n",
    "        return df1,df2\n",
    "\n"
   ]
  },
  {
   "cell_type": "code",
   "execution_count": 9,
   "metadata": {
    "collapsed": true
   },
   "outputs": [],
   "source": [
    "class categorical_cv(CategoricalFeature):\n",
    "    def __init__(self,nfold,k=5.0,f=1.0,r_k=0.01,g=1.0):\n",
    "        self.k = k\n",
    "        self.f = f\n",
    "        self.r_k = r_k\n",
    "        self.g = g\n",
    "        self.nfold = nfold\n",
    "        \n",
    "    def cat2num(self,df_tr_,df_te_,cat_var,target):\n",
    "        #example: cat_var = 'building_id', target='medium'\n",
    "        dftrain = df_tr_.copy()\n",
    "        dftest = df_te_.copy()\n",
    "    \n",
    "        global_avg = dftrain[target].sum()*1.0/len(dftrain)\n",
    "        gp = dftrain.groupby(cat_var)\n",
    "        cat_avg = gp[target].agg({'avg':np.mean,\n",
    "                             'cnt':lambda x:len(x)})\n",
    "        cat_avg = cat_avg.reset_index()\n",
    "        cat_avg['beta'] = cat_avg['cnt'].map(lambda x:1./(self.g+np.exp((x-self.k)/self.f)) if x<200 else 0.)\n",
    "    \n",
    "        cat_avg['cat2num'] = cat_avg['avg']*(1-cat_avg['beta']) + global_avg*cat_avg['beta']\n",
    "        dftest = pd.merge(dftest,cat_avg[[cat_var,'cat2num']],on=cat_var,how='left')\n",
    "        dftest['cat2num'] = dftest['cat2num'].fillna(global_avg)\n",
    "    \n",
    "        return dftest['cat2num'].as_matrix()\n",
    "    def categorical_average(self,Xtrain_,Xtest_,variable,target):       \n",
    "        X_train = Xtrain_.copy()\n",
    "        X_test = Xtest_.copy()\n",
    "    \n",
    "        k_fold = StratifiedKFold(self.nfold,shuffle=True,random_state=222)\n",
    "        fea_name = variable + '_' + target\n",
    "        fea_train = np.zeros(len(X_train))\n",
    "        fea_test = np.zeros(len(X_test))\n",
    "    \n",
    "        for train_inx,cv_inx in k_fold.split(np.zeros((len(X_train),2)),X_train['interest_level'].ravel()):\n",
    "            fea_train[cv_inx] = self.cat2num(X_train.iloc[train_inx,:],X_train.iloc[cv_inx,:],variable,target)\n",
    "    \n",
    "        X_train[fea_name] = fea_train\n",
    "        X_test.loc[:,fea_name] = self.cat2num(X_train,X_test,variable,target)\n",
    "        return X_train,X_test,fea_name\n",
    "    \n",
    "    def transform(self,xtrain_,xtest_):\n",
    "        Xtrain,Xtest = self.prepare_categorical(xtrain_,xtest_)\n",
    "    \n",
    "        categorical = ['building_id', 'manager_id', 'display_address']\n",
    "        fea_list = categorical\n",
    "        for f in categorical:\n",
    "            encoder = preprocessing.LabelEncoder()\n",
    "            encoder.fit(list(Xtrain[f]) + list(Xtest[f])) \n",
    "            Xtrain[f] = encoder.transform(Xtrain[f].ravel())\n",
    "            Xtest[f] = encoder.transform(Xtest[f].ravel())\n",
    "    \n",
    "        Xtrain['low'] = 0\n",
    "        Xtrain.loc[Xtrain['interest_level'] == 0, 'low'] = 1\n",
    "        Xtrain['medium'] = 0\n",
    "        Xtrain.loc[Xtrain['interest_level'] == 1, 'medium'] = 1\n",
    "        Xtrain['high'] = 0\n",
    "        Xtrain.loc[Xtrain['interest_level'] == 2, 'high'] = 1\n",
    "    \n",
    "        for col in [\"building_id\", \"manager_id\"]:        \n",
    "            Xtrain,Xtest,fea1 = self.categorical_average(Xtrain,Xtest,col, \"medium\")\n",
    "            Xtrain,Xtest,fea2 = self.categorical_average(Xtrain,Xtest,col, \"high\")\n",
    "            fea_list += [fea1,fea2]\n",
    "    \n",
    "    \n",
    "        return Xtrain,Xtest,fea_list    "
   ]
  },
  {
   "cell_type": "code",
   "execution_count": 10,
   "metadata": {
    "collapsed": true
   },
   "outputs": [],
   "source": [
    "class categorical_lit(CategoricalFeature):\n",
    "    def __init__(self,nfold,k=5.0,f=1.0,r_k=0.01,g=1.0):\n",
    "        self.k = k\n",
    "        self.f = f\n",
    "        self.r_k = r_k\n",
    "        self.g = g\n",
    "        self.nfold = nfold\n",
    "        self.global_avg = None\n",
    "        \n",
    "    def cat2num(self,df_tr_,df_te_,cat_var,target):\n",
    "        #example: cat_var = 'building_id', target='medium'\n",
    "        dftrain = df_tr_.copy()\n",
    "        dftest = df_te_.copy()\n",
    "    \n",
    "        \n",
    "        gp = dftrain.groupby(cat_var)\n",
    "        cat_avg = gp[target].agg({'avg':np.mean,\n",
    "                             'cnt':lambda x:len(x)})\n",
    "        cat_avg = cat_avg.reset_index()\n",
    "        cat_avg['beta'] = cat_avg['cnt'].map(lambda x:1./(self.g+np.exp((x-self.k)/self.f)) if x<200 else 0.)\n",
    "    \n",
    "        cat_avg['cat2num'] = cat_avg['avg']*(1-cat_avg['beta']) + self.global_avg*cat_avg['beta']\n",
    "        \n",
    "        dftest = pd.merge(dftest,cat_avg[[cat_var,'cat2num']],on=cat_var,how='left')\n",
    "        dftest['cat2num'] = dftest['cat2num'].fillna(self.global_avg)\n",
    "        if self.r_k: \n",
    "            ratio = np.random.uniform(1 - self.r_k, 1 + self.r_k, len(dftest))\n",
    "        else:\n",
    "            ratio = 1\n",
    "        return dftest['cat2num'].as_matrix()*ratio\n",
    "    \n",
    "    def categorical_average(self,Xtrain_,Xtest_,variable,target):       \n",
    "        X_train = Xtrain_.copy()\n",
    "        X_test = Xtest_.copy()\n",
    "    \n",
    "        self.global_avg = X_train[target].sum()*1.0/len(X_train)\n",
    "        \n",
    "        k_fold = StratifiedKFold(self.nfold,shuffle=True,random_state=222)\n",
    "        fea_name = variable + '_' + target +'_lit'\n",
    "        fea_train = np.zeros(len(X_train))\n",
    "        fea_test = np.zeros(len(X_test))\n",
    "    \n",
    "        for train_inx,cv_inx in k_fold.split(np.zeros((len(X_train),2)),X_train['interest_level'].ravel()):\n",
    "            fea_train[cv_inx] = self.cat2num(X_train.iloc[train_inx,:],X_train.iloc[cv_inx,:],variable,target)\n",
    "    \n",
    "        X_train[fea_name] = fea_train\n",
    "        X_test.loc[:,fea_name] = self.cat2num(X_train,X_test,variable,target)\n",
    "        return X_train,X_test,fea_name\n",
    "    \n",
    "    def transform(self,xtrain_,xtest_):\n",
    "        Xtrain,Xtest = self.prepare_categorical(xtrain_,xtest_)\n",
    "    \n",
    "        categorical = ['building_id', 'manager_id', 'display_address']\n",
    "        fea_list = categorical\n",
    "        for f in categorical:\n",
    "            encoder = preprocessing.LabelEncoder()\n",
    "            encoder.fit(list(Xtrain[f]) + list(Xtest[f])) \n",
    "            Xtrain[f] = encoder.transform(Xtrain[f].ravel())\n",
    "            Xtest[f] = encoder.transform(Xtest[f].ravel())\n",
    "    \n",
    "        Xtrain['low'] = 0\n",
    "        Xtrain.loc[Xtrain['interest_level'] == 0, 'low'] = 1\n",
    "        Xtrain['medium'] = 0\n",
    "        Xtrain.loc[Xtrain['interest_level'] == 1, 'medium'] = 1\n",
    "        Xtrain['high'] = 0\n",
    "        Xtrain.loc[Xtrain['interest_level'] == 2, 'high'] = 1\n",
    "    \n",
    "        for col in [\"building_id\", \"manager_id\"]:        \n",
    "            Xtrain,Xtest,fea1 = self.categorical_average(Xtrain,Xtest,col, \"medium\")\n",
    "            Xtrain,Xtest,fea2 = self.categorical_average(Xtrain,Xtest,col, \"high\")\n",
    "            fea_list += [fea1,fea2]\n",
    "    \n",
    "    \n",
    "        return Xtrain,Xtest,fea_list    "
   ]
  },
  {
   "cell_type": "code",
   "execution_count": null,
   "metadata": {
    "collapsed": false
   },
   "outputs": [],
   "source": []
  },
  {
   "cell_type": "code",
   "execution_count": 11,
   "metadata": {
    "collapsed": true
   },
   "outputs": [],
   "source": [
    "def getQuant(df1_,df2_,independent_var,output_name):\n",
    "    #independent_var can be:\n",
    "    # 1. ['longitude','latitude']\n",
    "    # 2. ['longitude','latitude','bathrooms']\n",
    "    # 3. ['polar_rho','polar_theta']\n",
    "    # 4. ['polar_rho','polar_theta','bathrooms']\n",
    "    \n",
    "    from sklearn.ensemble import GradientBoostingRegressor\n",
    "    \n",
    "    df1 = df1_.copy()\n",
    "    df2 = df2_.copy()\n",
    "    df1['source'] = 1\n",
    "    df2['source'] = 2\n",
    "    df = df1.append(df2)\n",
    "    df = df.reset_index(drop=True)\n",
    "    \n",
    "    df[output_name] = 4\n",
    "    \n",
    "    for room in range(0,6):\n",
    "        if room>=5:\n",
    "            mask = (df['bedrooms']>=5)\n",
    "        else:\n",
    "            mask = (df['bedrooms']==room)\n",
    "        tmp = df[mask].copy()\n",
    "        \n",
    "        jj = 0\n",
    "        all_quantile = np.zeros((len(tmp),9))\n",
    "        for alpha in np.arange(0.1,1,0.1):\n",
    "            rgr = GradientBoostingRegressor(loss='quantile',alpha=alpha,n_estimators=100,max_depth=2)\n",
    "            rgr.fit(tmp[independent_var],tmp['price'].as_matrix().ravel())\n",
    "            pred = rgr.predict(tmp[independent_var])\n",
    "            all_quantile[:,jj] = pred\n",
    "            jj += 1\n",
    "        quant_res = [np.searchsorted(all_quantile[ii,:],tmp['price'].iloc[ii]) for ii in range(len(tmp))]\n",
    "        df.loc[mask,output_name] = quant_res\n",
    "        \n",
    "    \n",
    "    df1 = df[df['source']==1].copy()\n",
    "    df2 = df[df['source']==2].copy()\n",
    "    del df1['source']\n",
    "    del df2['source']\n",
    "    del df\n",
    "    \n",
    "    return df1,df2"
   ]
  },
  {
   "cell_type": "code",
   "execution_count": null,
   "metadata": {
    "collapsed": true
   },
   "outputs": [],
   "source": []
  },
  {
   "cell_type": "code",
   "execution_count": 12,
   "metadata": {
    "collapsed": true
   },
   "outputs": [],
   "source": [
    "def additional_feature(train_df_,test_df_):    \n",
    "    train_df = train_df_.copy()\n",
    "    test_df = test_df_.copy()\n",
    "    \n",
    "    train_df[\"created\"] = pd.to_datetime(train_df[\"created\"])\n",
    "    test_df[\"created\"] = pd.to_datetime(test_df[\"created\"])\n",
    "\n",
    "    test_df['days'] = test_df['created']-pd.to_datetime('2016-04-01')\n",
    "    train_df['days'] = train_df['created'] - pd.to_datetime('2016-04-01')\n",
    "    test_df['hours'] = test_df['days']/np.timedelta64(1,'h')\n",
    "    train_df['hours'] = train_df['days']/np.timedelta64(1,'h')\n",
    "    test_df['days'] = test_df['days']/np.timedelta64(1, 'D')\n",
    "    train_df['days'] = train_df['days']/np.timedelta64(1,'D')\n",
    "    \n",
    "    train_df['hours'] = train_df['hours'].map(int)\n",
    "    test_df['hours'] = test_df['hours'].map(int)\n",
    "    gp = train_df.append(test_df).groupby('hours').size()\n",
    "    gp.name = 'hour_size'\n",
    "    gp = gp.reset_index()\n",
    "    train_df = pd.merge(train_df,gp,on='hours')\n",
    "    test_df = pd.merge(test_df,gp,on='hours')\n",
    "    del test_df['hours']\n",
    "    del train_df['hours']\n",
    "    \n",
    "    train_df['weekdays'] = train_df['created'].map(lambda x:x.weekday())\n",
    "    test_df['weekdays'] = test_df['created'].map(lambda x:x.weekday())\n",
    "\n",
    "    # Let us extract some features like year, month, day, hour from date columns #\n",
    "    train_df[\"created_month\"] = train_df[\"created\"].dt.month\n",
    "    test_df[\"created_month\"] = test_df[\"created\"].dt.month\n",
    "    train_df[\"created_day\"] = train_df[\"created\"].dt.day\n",
    "    test_df[\"created_day\"] = test_df[\"created\"].dt.day\n",
    "    train_df[\"created_hour\"] = train_df[\"created\"].dt.hour\n",
    "    test_df[\"created_hour\"] = test_df[\"created\"].dt.hour\n",
    "    # count of photos #\n",
    "    train_df[\"num_photos\"] = train_df[\"photos\"].apply(len)\n",
    "    test_df[\"num_photos\"] = test_df[\"photos\"].apply(len)\n",
    "\n",
    "    # count of \"features\" #\n",
    "    train_df[\"num_features\"] = train_df[\"features\"].apply(len)\n",
    "    test_df[\"num_features\"] = test_df[\"features\"].apply(len)\n",
    "\n",
    "    # count of words present in description column #\n",
    "    train_df[\"num_description_words\"] = train_df[\"description\"].apply(lambda x: len(x.split(\" \")))\n",
    "    test_df[\"num_description_words\"] = test_df[\"description\"].apply(lambda x: len(x.split(\" \")))\n",
    "    \n",
    "    tmp = train_df.append(test_df)\n",
    "    gp = tmp.groupby('manager_id').size()\n",
    "    gp.name = 'manager_count'\n",
    "    gp = gp.reset_index()\n",
    "    train_df = pd.merge(train_df,gp,how='left')\n",
    "    test_df = pd.merge(test_df,gp,how='left')\n",
    "    \n",
    "    gp = tmp.groupby('building_id').size()\n",
    "    gp.name = 'building_count'\n",
    "    gp = gp.reset_index()\n",
    "    train_df = pd.merge(train_df,gp,how='left')\n",
    "    test_df = pd.merge(test_df,gp,how='left')\n",
    "    \n",
    "    #train_df['price_per_bath'] = train_df['price'] / train_df['bathrooms']\n",
    "    #train_df['price_per_room'] = train_df['price'] / (train_df['bathrooms'] + train_df['bedrooms'] )\n",
    "\n",
    "    #test_df['price_per_bath'] = test_df['price'] / test_df['bathrooms']\n",
    "    #test_df['price_per_room'] = test_df['price'] / (0.5*test_df['bathrooms'] + test_df['bedrooms'] )\n",
    "    \n",
    "    fea_list = ['weekdays','manager_count','building_count',\"num_features\",\"num_description_words\",\"days\",\"num_photos\", \"created_month\", \"created_day\", \"created_hour\"]\n",
    "    return train_df,test_df,fea_list"
   ]
  },
  {
   "cell_type": "code",
   "execution_count": null,
   "metadata": {
    "collapsed": true
   },
   "outputs": [],
   "source": []
  },
  {
   "cell_type": "code",
   "execution_count": 13,
   "metadata": {
    "collapsed": true
   },
   "outputs": [],
   "source": [
    "def read_data():\n",
    "    data_path = \"../input/\"\n",
    "    train_file = data_path + \"train.json\"\n",
    "    test_file = data_path + \"test.json\"\n",
    "    train_df = pd.read_json(train_file)\n",
    "    test_df = pd.read_json(test_file)\n",
    "    interest_map = {'low':0,'medium':1,'high':2}\n",
    "    train_df['interest_level'] = train_df['interest_level'].map(interest_map)\n",
    "    fmt = lambda s: s.replace(\"\\u00a0\", \"\").strip().lower()\n",
    "    train_df[\"street_address\"] = train_df['street_address'].apply(fmt)\n",
    "    train_df[\"display_address\"] = train_df[\"display_address\"].apply(fmt)\n",
    "    #original_col = train_df.columns\n",
    "    test_df[\"street_address\"] = test_df['street_address'].apply(fmt)\n",
    "    test_df[\"display_address\"] = test_df[\"display_address\"].apply(fmt)\n",
    "    \n",
    "    return train_df,test_df"
   ]
  },
  {
   "cell_type": "code",
   "execution_count": 14,
   "metadata": {
    "collapsed": true
   },
   "outputs": [],
   "source": [
    "def runXGB_sklearn_calibration(train_X, train_y, test_X, test_y=None, feature_names=None, seed_val=0, num_rounds=2800,verbose=True):\n",
    "\n",
    "    clf = XGBClassifier(n_estimators=num_rounds,\n",
    "                            objective='multi:softprob',\n",
    "                            learning_rate=0.01,\n",
    "                            max_depth=6,\n",
    "                            min_child_weight=1,\n",
    "                            subsample=.7,\n",
    "                            colsample_bytree=.7,\n",
    "                            colsample_bylevel=.5,\n",
    "                            gamma=0.005,\n",
    "                            scale_pos_weight=1,\n",
    "                            base_score=.5,\n",
    "                            #reg_lambda=0,\n",
    "                            #reg_alpha=0,\n",
    "                            #missing=0,\n",
    "                            seed=seed_val)\n",
    "    \n",
    "    from sklearn.calibration import CalibratedClassifierCV\n",
    "    clf_isotonic = CalibratedClassifierCV(clf, cv=3, method='isotonic')\n",
    "    clf_isotonic.fit(train_X, train_y)\n",
    "    prob_iso = clf_isotonic.predict_proba(test_X)\n",
    "\n",
    "    # Gaussian Naive-Bayes with sigmoid calibration\n",
    "    clf_sigmoid = CalibratedClassifierCV(clf, cv=3, method='sigmoid')\n",
    "    clf_sigmoid.fit(train_X, train_y)\n",
    "    prob_sig = clf_sigmoid.predict_proba(test_X)\n",
    "    \n",
    "    return prob_iso,prob_sig"
   ]
  },
  {
   "cell_type": "code",
   "execution_count": 15,
   "metadata": {
    "collapsed": true
   },
   "outputs": [],
   "source": [
    "def runXGB_sklearn(train_X, train_y,  test_X, test_y=None,sample_weight=None, feature_names=None, seed_val=0, num_rounds=5000,verbose=True):\n",
    "\n",
    "    clf = XGBClassifier(n_estimators=num_rounds,\n",
    "                            objective='multi:softprob',\n",
    "                            learning_rate=0.01,\n",
    "                            max_depth=6,\n",
    "                            min_child_weight=1,\n",
    "                            subsample=.7,\n",
    "                            colsample_bytree=.7,\n",
    "                            colsample_bylevel=.5,\n",
    "                            gamma=0.005,\n",
    "                            scale_pos_weight=1,\n",
    "                            base_score=.5,\n",
    "                            #reg_lambda=0,\n",
    "                            #reg_alpha=0,\n",
    "                            #missing=0,\n",
    "                            seed=seed_val)\n",
    "    \n",
    "    if test_y is not None:\n",
    "        clf.fit(train_X, train_y,sample_weight= sample_weight,eval_set=[(train_X, train_y), (test_X, test_y)],verbose=verbose,eval_metric='mlogloss',\n",
    "            early_stopping_rounds=50)\n",
    "    else:        \n",
    "        clf.fit(train_X, train_y,sample_weight = sample_weight,verbose=False)\n",
    "    pred_test_y = clf.predict_proba(test_X)\n",
    "    return pred_test_y, clf"
   ]
  },
  {
   "cell_type": "code",
   "execution_count": null,
   "metadata": {
    "collapsed": true
   },
   "outputs": [],
   "source": []
  },
  {
   "cell_type": "code",
   "execution_count": 16,
   "metadata": {
    "collapsed": false
   },
   "outputs": [],
   "source": [
    "def runXGB(train_X, train_y, test_X=None, test_y=None, feature_names=None, seed_val=0, num_rounds=5000):\n",
    "    param = {}\n",
    "    param['objective'] = 'multi:softprob'\n",
    "    #param['eta'] = 0.1\n",
    "    param['max_depth'] = 6\n",
    "    param['silent'] = 1\n",
    "    param['num_class'] = 3\n",
    "    param['eval_metric'] = \"mlogloss\"\n",
    "    param['min_child_weight'] = 1\n",
    "    param['subsample'] = 0.7\n",
    "    param['colsample_bytree'] = 0.7\n",
    "    param['seed'] = seed_val\n",
    "    num_rounds = num_rounds\n",
    "\n",
    "    plst = list(param.items())\n",
    "    xgtrain = xgb.DMatrix(train_X, label=train_y)\n",
    "    \n",
    "    def custom_rates(boosting_round, num_boost_round):\n",
    "        total_round = max(boosting_round,num_boost_round)\n",
    "        curr_round = min(boosting_round,num_boost_round)\n",
    "        \n",
    "        if curr_round<100:\n",
    "            return 0.1\n",
    "        elif curr_round<300:\n",
    "            #print 'learning rate 0.01'\n",
    "            return 0.05\n",
    "        elif curr_round<1000:\n",
    "            return 0.01\n",
    "        elif curr_round<1500:\n",
    "            return 0.005\n",
    "        else:\n",
    "            return 0.001\n",
    "\n",
    "    if test_y is not None:\n",
    "        xgtest = xgb.DMatrix(test_X, label=test_y)\n",
    "        watchlist = [ (xgtrain,'train'), (xgtest, 'test') ]\n",
    "        model = xgb.train(plst, xgtrain, num_rounds, watchlist, early_stopping_rounds=30,verbose_eval=500, \n",
    "                          callbacks = [xgb.callback.reset_learning_rate(custom_rates)])\n",
    "    else:\n",
    "        \n",
    "        model = xgb.train(plst, xgtrain, num_rounds,verbose_eval=False,\n",
    "                          callbacks = [xgb.callback.reset_learning_rate(custom_rates)])\n",
    "    pred_test_y = None\n",
    "    if test_X is not None:\n",
    "        xgtest = xgb.DMatrix(test_X)\n",
    "        pred_test_y = model.predict(xgtest)\n",
    "    \n",
    "    #plot_hist(test_y,pred_test_y)\n",
    "    return pred_test_y, model"
   ]
  },
  {
   "cell_type": "code",
   "execution_count": 17,
   "metadata": {
    "collapsed": true
   },
   "outputs": [],
   "source": [
    "# Utility function to report best scores\n",
    "def report(results, n_top=3):\n",
    "    for i in range(1, n_top + 1):\n",
    "        candidates = np.flatnonzero(results['rank_test_score'] == i)\n",
    "        for candidate in candidates:\n",
    "            print(\"Model with rank: {0}\".format(i))\n",
    "            print(\"Mean validation score: {0:.3f} (std: {1:.3f})\".format(\n",
    "                  results['mean_test_score'][candidate],\n",
    "                  results['std_test_score'][candidate]))\n",
    "            print(\"Parameters: {0}\".format(results['params'][candidate]))\n",
    "            print(\"\")\n"
   ]
  },
  {
   "cell_type": "code",
   "execution_count": 18,
   "metadata": {
    "collapsed": true
   },
   "outputs": [],
   "source": [
    "def runXGB_gridsearch(X, y,seed_val=1234):\n",
    "    from sklearn.model_selection import GridSearchCV\n",
    "    from time import time\n",
    "    \n",
    "    #import pdb;pdb.set_trace()\n",
    "    params = {}\n",
    "    params['n_estimators'] = np.logspace(3,3.8,3,dtype=int)\n",
    "    params['learning_rate'] = np.logspace(-4,-1,4)\n",
    "    params['max_depth'] = [6]\n",
    "    params['subsample'] = [0.7]\n",
    "    params['colsample_bytree'] = [0.7,0.4]\n",
    "    params['colsample_bylevel'] = [0.7]\n",
    "    params['gamma'] = np.logspace(-3,-1,3)\n",
    "\n",
    "    clf = XGBClassifier(objective='multi:softprob',\n",
    "                            min_child_weight=1,\n",
    "                            scale_pos_weight=1,\n",
    "                            base_score=.5,\n",
    "                            #reg_lambda=0,\n",
    "                            #reg_alpha=0,\n",
    "                            #missing=0,\n",
    "                            seed=seed_val)\n",
    "    \n",
    "    grid_search = GridSearchCV(clf, param_grid=params,verbose=1,n_jobs=-1,scoring= 'neg_log_loss')\n",
    "    start = time()\n",
    "    grid_search.fit(X, y)\n",
    "\n",
    "    print(\"GridSearchCV took %.2f seconds for %d candidate parameter settings.\"\n",
    "      % (time() - start, len(grid_search.cv_results_['params'])))\n",
    "    report(grid_search.cv_results_)\n",
    "    return grid_search\n",
    "\n"
   ]
  },
  {
   "cell_type": "code",
   "execution_count": 19,
   "metadata": {
    "collapsed": false
   },
   "outputs": [],
   "source": [
    "#Global parameter\n",
    "feature_params = {}\n",
    "feature_params['nTextFea'] = 300 # Number of text features used}\n",
    "feature_params['nQuantLevel'] = 10 # number of levels for quantile computation\n",
    "feature_params['step_size'] = 0.02 # the step size when discreting latitude and longitude\n",
    "feature_params['category_nfold'] = 5 # n-fold to transform the categorical variable\n"
   ]
  },
  {
   "cell_type": "code",
   "execution_count": 20,
   "metadata": {
    "collapsed": false
   },
   "outputs": [
    {
     "name": "stdout",
     "output_type": "stream",
     "text": [
      "fea_list length is 303\n"
     ]
    }
   ],
   "source": [
    "train_df,test_df = read_data()\n",
    "train_df,test_df,fealist_txt = text_fea(train_df,test_df,nTop = feature_params['nTextFea'])\n",
    "train_df,test_df,fealist_addr = address_proc(train_df,test_df)\n",
    "#train_df,test_df,fealist_quant1 = quantile_price_lat_long(train_df,test_df,\n",
    "#                                step_size = feature_params['step_size'],nLevel=feature_params['nQuantLevel'])\n",
    "#train_df,test_df,fealist_quant2 = quantile_price(train_df,test_df,nLevel=feature_params['nQuantLevel'])\n",
    "\n"
   ]
  },
  {
   "cell_type": "code",
   "execution_count": 21,
   "metadata": {
    "collapsed": false
   },
   "outputs": [],
   "source": [
    "train_df,test_df = getQuant(train_df,test_df,['latitude','longitude'],'gbm_quant_lat_long')\n",
    "fealist_quant_gbm = ['gbm_quant_lat_long']"
   ]
  },
  {
   "cell_type": "code",
   "execution_count": 22,
   "metadata": {
    "collapsed": false
   },
   "outputs": [],
   "source": [
    "ca = categorical_cv(feature_params['category_nfold'])\n",
    "train_df,test_df,fea_categorical = ca.transform(train_df,test_df)"
   ]
  },
  {
   "cell_type": "code",
   "execution_count": 23,
   "metadata": {
    "collapsed": true
   },
   "outputs": [],
   "source": [
    "train_df,test_df,fea_additional = additional_feature(train_df,test_df)"
   ]
  },
  {
   "cell_type": "code",
   "execution_count": 24,
   "metadata": {
    "collapsed": false
   },
   "outputs": [],
   "source": [
    "fealist = [\"bathrooms\", \"bedrooms\", \"latitude\", \"longitude\", \"price\",'listing_id'] \n",
    "fealist = fealist+ fealist_quant_gbm + fealist_txt+fealist_addr + fea_categorical+fea_additional\n",
    "#fealist = fealist+ fealist_quant1 + fealist_quant2+fealist_txt+fealist_addr + fea_additional"
   ]
  },
  {
   "cell_type": "code",
   "execution_count": null,
   "metadata": {
    "collapsed": false
   },
   "outputs": [],
   "source": [
    "fea_categorical"
   ]
  },
  {
   "cell_type": "code",
   "execution_count": 164,
   "metadata": {
    "collapsed": true
   },
   "outputs": [
    {
     "name": "stdout",
     "output_type": "stream",
     "text": [
      "['building_id', 'manager_id', 'display_address', 'building_id_medium', 'building_id_high', 'manager_id_medium', 'manager_id_high']\n",
      "['weekdays', 'manager_count', 'building_count', 'num_features', 'num_description_words', 'days', 'num_photos', 'created_month', 'created_day', 'created_hour']\n",
      "{'nTextFea': 300, 'step_size': 0.02, 'nQuantLevel': 10, 'category_nfold': 5}\n",
      "best iterations:3086, best_score=0.529339, last_score=0.52934440427\n",
      "Most important 40 features:\n",
      "[('price', 0.059359524), ('manager_id_medium', 0.053740036), ('manager_id_high', 0.049900956), ('listing_id', 0.049059097), ('latitude', 0.048526153), ('longitude', 0.047217377), ('building_id_medium', 0.04666321), ('building_id_high', 0.043349996), ('num_description_words', 0.042953826), ('days', 0.039279819), ('manager_id', 0.038940243), ('display_address', 0.038025279), ('address_num', 0.037695136), ('manager_count', 0.035912372), ('building_id', 0.035091732), ('gbm_quant_lat_long', 0.0302976), ('building_count', 0.028991181), ('created_day', 0.026767438), ('created_hour', 0.025531765), ('num_photos', 0.02345187), ('num_features', 0.020912135), ('len_feature0', 0.019758996), ('street_num', 0.018669527), ('bedrooms', 0.017813517), ('weekdays', 0.015311512), ('no fee', 0.0088360142), ('ave_num', 0.0075295949), ('bathrooms', 0.0074211196), ('furnished', 0.004225817), ('laundry in building', 0.0041998774), ('west_east', 0.0038390793), ('laundry in unit', 0.0037447531), ('dogs allowed', 0.0032707637), ('hardwood floors', 0.0032141679), ('pre-war', 0.0030019337), ('cats allowed', 0.0029689195), ('dishwasher', 0.0029547706), ('created_month', 0.0029500541), ('elevator', 0.0026835825), ('doorman', 0.002645852)]\n",
      "-------------------------\n",
      "best iterations:2506, best_score=0.531142, last_score=0.531149475785\n",
      "Most important 40 features:\n",
      "[('price', 0.061442167), ('manager_id_medium', 0.054691676), ('manager_id_high', 0.05062867), ('latitude', 0.048955496), ('longitude', 0.047481716), ('listing_id', 0.047230307), ('building_id_medium', 0.044927165), ('num_description_words', 0.043366689), ('building_id_high', 0.042728052), ('days', 0.039676461), ('manager_id', 0.037838571), ('address_num', 0.037780777), ('display_address', 0.036515061), ('manager_count', 0.036185626), ('building_id', 0.033567499), ('gbm_quant_lat_long', 0.033368107), ('building_count', 0.029469814), ('created_day', 0.026149476), ('created_hour', 0.024924217), ('num_photos', 0.02403128), ('num_features', 0.02108372), ('len_feature0', 0.019020427), ('street_num', 0.018769018), ('bedrooms', 0.01763623), ('weekdays', 0.014307222), ('no fee', 0.0096951583), ('ave_num', 0.0091085369), ('bathrooms', 0.0073284418), ('furnished', 0.0048837014), ('laundry in building', 0.0046005044), ('laundry in unit', 0.0037711423), ('west_east', 0.0035486303), ('hardwood floors', 0.0032365359), ('dogs allowed', 0.003025583), ('created_month', 0.0029446697), ('cats allowed', 0.0028406382), ('pre-war', 0.0028204098), ('dishwasher', 0.0026932601), ('elevator', 0.0025747798), ('exclusive', 0.002522764)]\n",
      "-------------------------\n",
      "best iterations:3480, best_score=0.522732, last_score=0.522762336513\n",
      "Most important 40 features:\n",
      "[('price', 0.059322529), ('manager_id_medium', 0.053630259), ('listing_id', 0.050341997), ('manager_id_high', 0.049708594), ('latitude', 0.049087733), ('longitude', 0.046953391), ('building_id_medium', 0.045820374), ('num_description_words', 0.044168923), ('building_id_high', 0.043951519), ('days', 0.040945463), ('manager_id', 0.040280703), ('display_address', 0.037797261), ('address_num', 0.037299737), ('manager_count', 0.036467742), ('building_id', 0.035552125), ('gbm_quant_lat_long', 0.029261991), ('building_count', 0.028467624), ('created_day', 0.028078802), ('created_hour', 0.024706921), ('num_photos', 0.02304711), ('num_features', 0.020603385), ('len_feature0', 0.019545622), ('street_num', 0.018492039), ('bedrooms', 0.017400829), ('weekdays', 0.014944562), ('ave_num', 0.0083262259), ('no fee', 0.0080586495), ('bathrooms', 0.0071681216), ('laundry in building', 0.0040366412), ('west_east', 0.0039467523), ('laundry in unit', 0.0035892869), ('dogs allowed', 0.0035265738), ('furnished', 0.0033802427), ('hardwood floors', 0.0033802427), ('pre-war', 0.0033238009), ('dishwasher', 0.0031272995), ('cats allowed', 0.0030959428), ('created_month', 0.0029036223), ('doorman', 0.0028283664), ('elevator', 0.0026025989)]\n",
      "-------------------------\n",
      "best iterations:3574, best_score=0.519642, last_score=0.519714448706\n",
      "Most important 40 features:\n",
      "[('price', 0.058965366), ('manager_id_medium', 0.053987782), ('listing_id', 0.050441407), ('manager_id_high', 0.050077993), ('latitude', 0.049040824), ('longitude', 0.047231909), ('building_id_medium', 0.045643494), ('num_description_words', 0.043861117), ('building_id_high', 0.04324045), ('manager_id', 0.041260034), ('days', 0.040896617), ('display_address', 0.037568703), ('address_num', 0.036994994), ('manager_count', 0.036306951), ('building_id', 0.035631161), ('gbm_quant_lat_long', 0.029295871), ('building_count', 0.028362829), ('created_day', 0.027776871), ('created_hour', 0.024867496), ('num_photos', 0.023056537), ('num_features', 0.021314997), ('street_num', 0.018926246), ('len_feature0', 0.018871121), ('bedrooms', 0.016555872), ('weekdays', 0.015183873), ('ave_num', 0.0085239569), ('no fee', 0.0083647072), ('bathrooms', 0.0073642903), ('laundry in building', 0.0042609577), ('west_east', 0.0039138743), ('furnished', 0.0039077494), ('laundry in unit', 0.0035953743), ('dogs allowed', 0.003542291), ('hardwood floors', 0.0032258327), ('pre-war', 0.003223791), ('dishwasher', 0.0031564161), ('created_month', 0.0030522912), ('cats allowed', 0.0030175829), ('doorman', 0.0026480411), ('elevator', 0.0025439162)]\n",
      "-------------------------\n",
      "best iterations:3393, best_score=0.521363, last_score=0.52142457476\n",
      "Most important 40 features:\n",
      "[('price', 0.058260046), ('manager_id_medium', 0.05358763), ('manager_id_high', 0.050179541), ('latitude', 0.049927969), ('listing_id', 0.049063582), ('longitude', 0.04641667), ('building_id_medium', 0.046197347), ('building_id_high', 0.044505127), ('num_description_words', 0.044376116), ('manager_id', 0.040535834), ('days', 0.039972477), ('display_address', 0.037884619), ('manager_count', 0.037237406), ('address_num', 0.036828864), ('building_id', 0.035917174), ('gbm_quant_lat_long', 0.029262261), ('building_count', 0.028449481), ('created_day', 0.027219558), ('created_hour', 0.024540393), ('num_photos', 0.023759864), ('num_features', 0.021603199), ('len_feature0', 0.019399229), ('street_num', 0.019246565), ('bedrooms', 0.016859828), ('weekdays', 0.015438536), ('no fee', 0.008590105), ('ave_num', 0.0082912249), ('bathrooms', 0.0069365902), ('furnished', 0.0041520633), ('laundry in building', 0.0038230803), ('west_east', 0.003657514), ('laundry in unit', 0.0033349819), ('hardwood floors', 0.0031844669), ('dogs allowed', 0.0031823167), ('created_month', 0.0030533038), ('pre-war', 0.0030253511), ('dishwasher', 0.0030059991), ('cats allowed', 0.0027286215), ('exclusive', 0.0025071495), ('elevator', 0.002453394)]\n",
      "-------------------------\n",
      "mean score=0.524879048007\n"
     ]
    }
   ],
   "source": [
    "simple_cv(train_df,test_df)"
   ]
  },
  {
   "cell_type": "code",
   "execution_count": 179,
   "metadata": {
    "collapsed": true
   },
   "outputs": [
    {
     "name": "stdout",
     "output_type": "stream",
     "text": [
      "['building_id', 'manager_id', 'display_address', 'building_id_medium_lit', 'building_id_high_lit', 'manager_id_medium_lit', 'manager_id_high_lit']\n",
      "['weekdays', 'manager_count', 'building_count', 'num_features', 'num_description_words', 'days', 'num_photos', 'created_month', 'created_day', 'created_hour']\n",
      "{'nTextFea': 300, 'step_size': 0.02, 'nQuantLevel': 10, 'category_nfold': 5}\n",
      "best iterations:3251, best_score=0.529497, last_score=0.529557960155\n",
      "Most important 40 features:\n",
      "[('manager_id_medium_lit', 0.059834111), ('price', 0.05749714), ('manager_id_high_lit', 0.056157216), ('building_id_medium_lit', 0.056096312), ('building_id_high_lit', 0.053574368), ('listing_id', 0.046906333), ('latitude', 0.046518344), ('longitude', 0.045268651), ('num_description_words', 0.041233089), ('days', 0.037626125), ('manager_id', 0.037405059), ('address_num', 0.036245599), ('display_address', 0.036220785), ('manager_count', 0.03468461), ('building_id', 0.033624403), ('gbm_quant_lat_long', 0.02909483), ('building_count', 0.027745884), ('created_day', 0.026279638), ('created_hour', 0.0243081), ('num_photos', 0.022595977), ('num_features', 0.020105615), ('len_feature0', 0.019095033), ('street_num', 0.01827619), ('bedrooms', 0.016994918), ('weekdays', 0.014646669), ('no fee', 0.008542574), ('ave_num', 0.0071282107), ('bathrooms', 0.0071146763), ('furnished', 0.0040874425), ('laundry in building', 0.0039408179), ('laundry in unit', 0.0036768937), ('west_east', 0.0036295226), ('dogs allowed', 0.0032460429), ('hardwood floors', 0.0031490449), ('pre-war', 0.0027836114), ('cats allowed', 0.0027768442), ('created_month', 0.0027745883), ('dishwasher', 0.0027723326), ('elevator', 0.0025805929), ('doorman', 0.0024835949)]\n",
      "-------------------------\n",
      "best iterations:2693, best_score=0.530358, last_score=0.530371424035\n",
      "Most important 40 features:\n",
      "[('manager_id_medium_lit', 0.059318613), ('price', 0.058825441), ('manager_id_high_lit', 0.056457143), ('building_id_medium_lit', 0.054647043), ('building_id_high_lit', 0.052853204), ('latitude', 0.047162782), ('listing_id', 0.04577269), ('longitude', 0.045515269), ('num_description_words', 0.041531969), ('days', 0.037990358), ('manager_id', 0.037060924), ('address_num', 0.036294069), ('manager_count', 0.035294183), ('display_address', 0.035188504), ('building_id', 0.032527551), ('gbm_quant_lat_long', 0.031709213), ('building_count', 0.028059212), ('created_day', 0.025365746), ('created_hour', 0.023691135), ('num_photos', 0.023119383), ('num_features', 0.020596627), ('len_feature0', 0.018455943), ('street_num', 0.018060325), ('bedrooms', 0.016919529), ('weekdays', 0.013881926), ('no fee', 0.0090613235), ('ave_num', 0.0086142188), ('bathrooms', 0.0070344489), ('furnished', 0.0046119536), ('laundry in building', 0.0044060145), ('laundry in unit', 0.0036391621), ('west_east', 0.0034982562), ('hardwood floors', 0.0032327031), ('dogs allowed', 0.0031188948), ('created_month', 0.0027693401), ('cats allowed', 0.0027666304), ('dishwasher', 0.0027422428), ('pre-war', 0.0027341135), ('elevator', 0.002482109), ('doorman', 0.0024766896)]\n",
      "-------------------------\n"
     ]
    },
    {
     "ename": "KeyboardInterrupt",
     "evalue": "",
     "output_type": "error",
     "traceback": [
      "\u001b[0;31m---------------------------------------------------------------------------\u001b[0m",
      "\u001b[0;31mKeyboardInterrupt\u001b[0m                         Traceback (most recent call last)",
      "\u001b[0;32m<ipython-input-179-0d9001900c46>\u001b[0m in \u001b[0;36m<module>\u001b[0;34m()\u001b[0m\n\u001b[0;32m----> 1\u001b[0;31m \u001b[0msimple_cv\u001b[0m\u001b[0;34m(\u001b[0m\u001b[0mtrain_df\u001b[0m\u001b[0;34m,\u001b[0m\u001b[0mtest_df\u001b[0m\u001b[0;34m)\u001b[0m\u001b[0;34m\u001b[0m\u001b[0m\n\u001b[0m",
      "\u001b[0;32m<ipython-input-163-735795caf99c>\u001b[0m in \u001b[0;36msimple_cv\u001b[0;34m(train_df, test_df)\u001b[0m\n\u001b[1;32m     12\u001b[0m         \u001b[0mdev_X\u001b[0m\u001b[0;34m,\u001b[0m \u001b[0mval_X\u001b[0m \u001b[0;34m=\u001b[0m \u001b[0mtrain_X\u001b[0m\u001b[0;34m[\u001b[0m\u001b[0mdev_index\u001b[0m\u001b[0;34m,\u001b[0m\u001b[0;34m:\u001b[0m\u001b[0;34m]\u001b[0m\u001b[0;34m,\u001b[0m \u001b[0mtrain_X\u001b[0m\u001b[0;34m[\u001b[0m\u001b[0mval_index\u001b[0m\u001b[0;34m,\u001b[0m\u001b[0;34m:\u001b[0m\u001b[0;34m]\u001b[0m\u001b[0;34m\u001b[0m\u001b[0m\n\u001b[1;32m     13\u001b[0m         \u001b[0mdev_y\u001b[0m\u001b[0;34m,\u001b[0m \u001b[0mval_y\u001b[0m \u001b[0;34m=\u001b[0m \u001b[0mtrain_y\u001b[0m\u001b[0;34m[\u001b[0m\u001b[0mdev_index\u001b[0m\u001b[0;34m]\u001b[0m\u001b[0;34m,\u001b[0m \u001b[0mtrain_y\u001b[0m\u001b[0;34m[\u001b[0m\u001b[0mval_index\u001b[0m\u001b[0;34m]\u001b[0m\u001b[0;34m\u001b[0m\u001b[0m\n\u001b[0;32m---> 14\u001b[0;31m         \u001b[0mpreds\u001b[0m\u001b[0;34m,\u001b[0m \u001b[0mmodel\u001b[0m \u001b[0;34m=\u001b[0m \u001b[0mrunXGB_sklearn\u001b[0m\u001b[0;34m(\u001b[0m\u001b[0mdev_X\u001b[0m\u001b[0;34m,\u001b[0m \u001b[0mdev_y\u001b[0m\u001b[0;34m,\u001b[0m \u001b[0mval_X\u001b[0m\u001b[0;34m,\u001b[0m \u001b[0mval_y\u001b[0m\u001b[0;34m,\u001b[0m\u001b[0mverbose\u001b[0m\u001b[0;34m=\u001b[0m\u001b[0mFalse\u001b[0m\u001b[0;34m)\u001b[0m\u001b[0;34m\u001b[0m\u001b[0m\n\u001b[0m\u001b[1;32m     15\u001b[0m     \u001b[0;31m#import pdb;pdb.set_trace()\u001b[0m\u001b[0;34m\u001b[0m\u001b[0;34m\u001b[0m\u001b[0m\n\u001b[1;32m     16\u001b[0m         print('best iterations:{}, best_score={}, last_score={}'.format(model.best_iteration,\n",
      "\u001b[0;32m<ipython-input-114-cf98af98fb49>\u001b[0m in \u001b[0;36mrunXGB_sklearn\u001b[0;34m(train_X, train_y, test_X, test_y, feature_names, seed_val, num_rounds, verbose)\u001b[0m\n\u001b[1;32m     19\u001b[0m     \u001b[0;32mif\u001b[0m \u001b[0mtest_y\u001b[0m \u001b[0;32mis\u001b[0m \u001b[0;32mnot\u001b[0m \u001b[0mNone\u001b[0m\u001b[0;34m:\u001b[0m\u001b[0;34m\u001b[0m\u001b[0m\n\u001b[1;32m     20\u001b[0m         clf.fit(train_X, train_y,eval_set=[(train_X, train_y), (test_X, test_y)],verbose=verbose,eval_metric='mlogloss',\n\u001b[0;32m---> 21\u001b[0;31m             early_stopping_rounds=50)\n\u001b[0m\u001b[1;32m     22\u001b[0m     \u001b[0;32melse\u001b[0m\u001b[0;34m:\u001b[0m\u001b[0;34m\u001b[0m\u001b[0m\n\u001b[1;32m     23\u001b[0m         \u001b[0mclf\u001b[0m\u001b[0;34m.\u001b[0m\u001b[0mfit\u001b[0m\u001b[0;34m(\u001b[0m\u001b[0mtrain_X\u001b[0m\u001b[0;34m,\u001b[0m \u001b[0mtrain_y\u001b[0m\u001b[0;34m,\u001b[0m\u001b[0mverbose\u001b[0m\u001b[0;34m=\u001b[0m\u001b[0mFalse\u001b[0m\u001b[0;34m)\u001b[0m\u001b[0;34m\u001b[0m\u001b[0m\n",
      "\u001b[0;32m/home/jianqi/anaconda2/envs/xgboost/lib/python2.7/site-packages/xgboost/sklearn.pyc\u001b[0m in \u001b[0;36mfit\u001b[0;34m(self, X, y, sample_weight, eval_set, eval_metric, early_stopping_rounds, verbose)\u001b[0m\n\u001b[1;32m    443\u001b[0m                               \u001b[0mearly_stopping_rounds\u001b[0m\u001b[0;34m=\u001b[0m\u001b[0mearly_stopping_rounds\u001b[0m\u001b[0;34m,\u001b[0m\u001b[0;34m\u001b[0m\u001b[0m\n\u001b[1;32m    444\u001b[0m                               \u001b[0mevals_result\u001b[0m\u001b[0;34m=\u001b[0m\u001b[0mevals_result\u001b[0m\u001b[0;34m,\u001b[0m \u001b[0mobj\u001b[0m\u001b[0;34m=\u001b[0m\u001b[0mobj\u001b[0m\u001b[0;34m,\u001b[0m \u001b[0mfeval\u001b[0m\u001b[0;34m=\u001b[0m\u001b[0mfeval\u001b[0m\u001b[0;34m,\u001b[0m\u001b[0;34m\u001b[0m\u001b[0m\n\u001b[0;32m--> 445\u001b[0;31m                               verbose_eval=verbose)\n\u001b[0m\u001b[1;32m    446\u001b[0m \u001b[0;34m\u001b[0m\u001b[0m\n\u001b[1;32m    447\u001b[0m         \u001b[0mself\u001b[0m\u001b[0;34m.\u001b[0m\u001b[0mobjective\u001b[0m \u001b[0;34m=\u001b[0m \u001b[0mxgb_options\u001b[0m\u001b[0;34m[\u001b[0m\u001b[0;34m\"objective\"\u001b[0m\u001b[0;34m]\u001b[0m\u001b[0;34m\u001b[0m\u001b[0m\n",
      "\u001b[0;32m/home/jianqi/anaconda2/envs/xgboost/lib/python2.7/site-packages/xgboost/training.pyc\u001b[0m in \u001b[0;36mtrain\u001b[0;34m(params, dtrain, num_boost_round, evals, obj, feval, maximize, early_stopping_rounds, evals_result, verbose_eval, learning_rates, xgb_model, callbacks)\u001b[0m\n\u001b[1;32m    203\u001b[0m                            \u001b[0mevals\u001b[0m\u001b[0;34m=\u001b[0m\u001b[0mevals\u001b[0m\u001b[0;34m,\u001b[0m\u001b[0;34m\u001b[0m\u001b[0m\n\u001b[1;32m    204\u001b[0m                            \u001b[0mobj\u001b[0m\u001b[0;34m=\u001b[0m\u001b[0mobj\u001b[0m\u001b[0;34m,\u001b[0m \u001b[0mfeval\u001b[0m\u001b[0;34m=\u001b[0m\u001b[0mfeval\u001b[0m\u001b[0;34m,\u001b[0m\u001b[0;34m\u001b[0m\u001b[0m\n\u001b[0;32m--> 205\u001b[0;31m                            xgb_model=xgb_model, callbacks=callbacks)\n\u001b[0m\u001b[1;32m    206\u001b[0m \u001b[0;34m\u001b[0m\u001b[0m\n\u001b[1;32m    207\u001b[0m \u001b[0;34m\u001b[0m\u001b[0m\n",
      "\u001b[0;32m/home/jianqi/anaconda2/envs/xgboost/lib/python2.7/site-packages/xgboost/training.pyc\u001b[0m in \u001b[0;36m_train_internal\u001b[0;34m(params, dtrain, num_boost_round, evals, obj, feval, xgb_model, callbacks)\u001b[0m\n\u001b[1;32m     74\u001b[0m         \u001b[0;31m# Skip the first update if it is a recovery step.\u001b[0m\u001b[0;34m\u001b[0m\u001b[0;34m\u001b[0m\u001b[0m\n\u001b[1;32m     75\u001b[0m         \u001b[0;32mif\u001b[0m \u001b[0mversion\u001b[0m \u001b[0;34m%\u001b[0m \u001b[0;36m2\u001b[0m \u001b[0;34m==\u001b[0m \u001b[0;36m0\u001b[0m\u001b[0;34m:\u001b[0m\u001b[0;34m\u001b[0m\u001b[0m\n\u001b[0;32m---> 76\u001b[0;31m             \u001b[0mbst\u001b[0m\u001b[0;34m.\u001b[0m\u001b[0mupdate\u001b[0m\u001b[0;34m(\u001b[0m\u001b[0mdtrain\u001b[0m\u001b[0;34m,\u001b[0m \u001b[0mi\u001b[0m\u001b[0;34m,\u001b[0m \u001b[0mobj\u001b[0m\u001b[0;34m)\u001b[0m\u001b[0;34m\u001b[0m\u001b[0m\n\u001b[0m\u001b[1;32m     77\u001b[0m             \u001b[0mbst\u001b[0m\u001b[0;34m.\u001b[0m\u001b[0msave_rabit_checkpoint\u001b[0m\u001b[0;34m(\u001b[0m\u001b[0;34m)\u001b[0m\u001b[0;34m\u001b[0m\u001b[0m\n\u001b[1;32m     78\u001b[0m             \u001b[0mversion\u001b[0m \u001b[0;34m+=\u001b[0m \u001b[0;36m1\u001b[0m\u001b[0;34m\u001b[0m\u001b[0m\n",
      "\u001b[0;32m/home/jianqi/anaconda2/envs/xgboost/lib/python2.7/site-packages/xgboost/core.pyc\u001b[0m in \u001b[0;36mupdate\u001b[0;34m(self, dtrain, iteration, fobj)\u001b[0m\n\u001b[1;32m    804\u001b[0m \u001b[0;34m\u001b[0m\u001b[0m\n\u001b[1;32m    805\u001b[0m         \u001b[0;32mif\u001b[0m \u001b[0mfobj\u001b[0m \u001b[0;32mis\u001b[0m \u001b[0mNone\u001b[0m\u001b[0;34m:\u001b[0m\u001b[0;34m\u001b[0m\u001b[0m\n\u001b[0;32m--> 806\u001b[0;31m             \u001b[0m_check_call\u001b[0m\u001b[0;34m(\u001b[0m\u001b[0m_LIB\u001b[0m\u001b[0;34m.\u001b[0m\u001b[0mXGBoosterUpdateOneIter\u001b[0m\u001b[0;34m(\u001b[0m\u001b[0mself\u001b[0m\u001b[0;34m.\u001b[0m\u001b[0mhandle\u001b[0m\u001b[0;34m,\u001b[0m \u001b[0miteration\u001b[0m\u001b[0;34m,\u001b[0m \u001b[0mdtrain\u001b[0m\u001b[0;34m.\u001b[0m\u001b[0mhandle\u001b[0m\u001b[0;34m)\u001b[0m\u001b[0;34m)\u001b[0m\u001b[0;34m\u001b[0m\u001b[0m\n\u001b[0m\u001b[1;32m    807\u001b[0m         \u001b[0;32melse\u001b[0m\u001b[0;34m:\u001b[0m\u001b[0;34m\u001b[0m\u001b[0m\n\u001b[1;32m    808\u001b[0m             \u001b[0mpred\u001b[0m \u001b[0;34m=\u001b[0m \u001b[0mself\u001b[0m\u001b[0;34m.\u001b[0m\u001b[0mpredict\u001b[0m\u001b[0;34m(\u001b[0m\u001b[0mdtrain\u001b[0m\u001b[0;34m)\u001b[0m\u001b[0;34m\u001b[0m\u001b[0m\n",
      "\u001b[0;31mKeyboardInterrupt\u001b[0m: "
     ]
    }
   ],
   "source": [
    "simple_cv(train_df,test_df)"
   ]
  },
  {
   "cell_type": "code",
   "execution_count": 188,
   "metadata": {
    "collapsed": false
   },
   "outputs": [
    {
     "ename": "NameError",
     "evalue": "global name 'prob_iso' is not defined",
     "output_type": "error",
     "traceback": [
      "\u001b[0;31m---------------------------------------------------------------------------\u001b[0m",
      "\u001b[0;31mNameError\u001b[0m                                 Traceback (most recent call last)",
      "\u001b[0;32m<ipython-input-188-0286aff75618>\u001b[0m in \u001b[0;36m<module>\u001b[0;34m()\u001b[0m\n\u001b[1;32m      3\u001b[0m \u001b[0mtrain_y\u001b[0m \u001b[0;34m=\u001b[0m \u001b[0mnp\u001b[0m\u001b[0;34m.\u001b[0m\u001b[0marray\u001b[0m\u001b[0;34m(\u001b[0m\u001b[0mtrain_df\u001b[0m\u001b[0;34m[\u001b[0m\u001b[0;34m'interest_level'\u001b[0m\u001b[0;34m]\u001b[0m\u001b[0;34m)\u001b[0m\u001b[0;34m\u001b[0m\u001b[0m\n\u001b[1;32m      4\u001b[0m \u001b[0mpreds_simple\u001b[0m\u001b[0;34m,\u001b[0m \u001b[0mmodel\u001b[0m \u001b[0;34m=\u001b[0m \u001b[0mrunXGB_sklearn\u001b[0m\u001b[0;34m(\u001b[0m\u001b[0mtrain_X\u001b[0m\u001b[0;34m,\u001b[0m \u001b[0mtrain_y\u001b[0m\u001b[0;34m,\u001b[0m \u001b[0mtest_X\u001b[0m\u001b[0;34m,\u001b[0m\u001b[0mnum_rounds\u001b[0m\u001b[0;34m=\u001b[0m\u001b[0;36m3000\u001b[0m\u001b[0;34m)\u001b[0m\u001b[0;34m\u001b[0m\u001b[0m\n\u001b[0;32m----> 5\u001b[0;31m \u001b[0mpreds_iso\u001b[0m\u001b[0;34m,\u001b[0m \u001b[0mpred_sig\u001b[0m \u001b[0;34m=\u001b[0m \u001b[0mrunXGB_sklearn_calibration\u001b[0m\u001b[0;34m(\u001b[0m\u001b[0mtrain_X\u001b[0m\u001b[0;34m,\u001b[0m \u001b[0mtrain_y\u001b[0m\u001b[0;34m,\u001b[0m \u001b[0mtest_X\u001b[0m\u001b[0;34m,\u001b[0m\u001b[0mnum_rounds\u001b[0m\u001b[0;34m=\u001b[0m\u001b[0;36m2500\u001b[0m\u001b[0;34m)\u001b[0m\u001b[0;34m\u001b[0m\u001b[0m\n\u001b[0m\u001b[1;32m      6\u001b[0m \u001b[0mwrite_output\u001b[0m\u001b[0;34m(\u001b[0m\u001b[0mpreds_simple\u001b[0m\u001b[0;34m,\u001b[0m\u001b[0mtest_df\u001b[0m\u001b[0;34m,\u001b[0m\u001b[0mprefix\u001b[0m\u001b[0;34m=\u001b[0m\u001b[0;34m'orignal_gbx_'\u001b[0m\u001b[0;34m)\u001b[0m\u001b[0;34m\u001b[0m\u001b[0m\n\u001b[1;32m      7\u001b[0m \u001b[0mwrite_output\u001b[0m\u001b[0;34m(\u001b[0m\u001b[0mpreds_iso\u001b[0m\u001b[0;34m,\u001b[0m\u001b[0mtest_df\u001b[0m\u001b[0;34m,\u001b[0m\u001b[0mprefix\u001b[0m\u001b[0;34m=\u001b[0m \u001b[0;34m'iso_gbx_'\u001b[0m\u001b[0;34m)\u001b[0m\u001b[0;34m\u001b[0m\u001b[0m\n",
      "\u001b[0;32m<ipython-input-183-6bf97f05f6bb>\u001b[0m in \u001b[0;36mrunXGB_sklearn_calibration\u001b[0;34m(train_X, train_y, test_X, test_y, feature_names, seed_val, num_rounds, verbose)\u001b[0m\n\u001b[1;32m     27\u001b[0m     \u001b[0mprob_pos_sigmoid\u001b[0m \u001b[0;34m=\u001b[0m \u001b[0mclf_sigmoid\u001b[0m\u001b[0;34m.\u001b[0m\u001b[0mpredict_proba\u001b[0m\u001b[0;34m(\u001b[0m\u001b[0mtest_X\u001b[0m\u001b[0;34m)\u001b[0m\u001b[0;34m\u001b[0m\u001b[0m\n\u001b[1;32m     28\u001b[0m \u001b[0;34m\u001b[0m\u001b[0m\n\u001b[0;32m---> 29\u001b[0;31m     \u001b[0;32mreturn\u001b[0m \u001b[0mprob_iso\u001b[0m\u001b[0;34m,\u001b[0m\u001b[0mprob_sig\u001b[0m\u001b[0;34m\u001b[0m\u001b[0m\n\u001b[0m",
      "\u001b[0;31mNameError\u001b[0m: global name 'prob_iso' is not defined"
     ]
    }
   ],
   "source": [
    "train_X = train_df[fealist].as_matrix()\n",
    "test_X = test_df[fealist].as_matrix()\n",
    "train_y = np.array(train_df['interest_level'])\n",
    "preds_simple, model = runXGB_sklearn(train_X, train_y, test_X,num_rounds=3000)\n",
    "\n"
   ]
  },
  {
   "cell_type": "code",
   "execution_count": 190,
   "metadata": {
    "collapsed": false
   },
   "outputs": [
    {
     "ename": "TypeError",
     "evalue": "write_output() got an unexpected keyword argument 'prefix'",
     "output_type": "error",
     "traceback": [
      "\u001b[0;31m---------------------------------------------------------------------------\u001b[0m",
      "\u001b[0;31mTypeError\u001b[0m                                 Traceback (most recent call last)",
      "\u001b[0;32m<ipython-input-190-28cff1fd479d>\u001b[0m in \u001b[0;36m<module>\u001b[0;34m()\u001b[0m\n\u001b[1;32m      1\u001b[0m \u001b[0mpreds_iso\u001b[0m\u001b[0;34m,\u001b[0m \u001b[0mpred_sig\u001b[0m \u001b[0;34m=\u001b[0m \u001b[0mrunXGB_sklearn_calibration\u001b[0m\u001b[0;34m(\u001b[0m\u001b[0mtrain_X\u001b[0m\u001b[0;34m,\u001b[0m \u001b[0mtrain_y\u001b[0m\u001b[0;34m,\u001b[0m \u001b[0mtest_X\u001b[0m\u001b[0;34m,\u001b[0m\u001b[0mnum_rounds\u001b[0m\u001b[0;34m=\u001b[0m\u001b[0;36m2500\u001b[0m\u001b[0;34m)\u001b[0m\u001b[0;34m\u001b[0m\u001b[0m\n\u001b[0;32m----> 2\u001b[0;31m \u001b[0mwrite_output\u001b[0m\u001b[0;34m(\u001b[0m\u001b[0mpreds_simple\u001b[0m\u001b[0;34m,\u001b[0m\u001b[0mtest_df\u001b[0m\u001b[0;34m,\u001b[0m\u001b[0mprefix\u001b[0m\u001b[0;34m=\u001b[0m\u001b[0;34m'orignal_gbx_'\u001b[0m\u001b[0;34m)\u001b[0m\u001b[0;34m\u001b[0m\u001b[0m\n\u001b[0m\u001b[1;32m      3\u001b[0m \u001b[0mwrite_output\u001b[0m\u001b[0;34m(\u001b[0m\u001b[0mpreds_iso\u001b[0m\u001b[0;34m,\u001b[0m\u001b[0mtest_df\u001b[0m\u001b[0;34m,\u001b[0m\u001b[0mprefix\u001b[0m\u001b[0;34m=\u001b[0m \u001b[0;34m'iso_gbx_'\u001b[0m\u001b[0;34m)\u001b[0m\u001b[0;34m\u001b[0m\u001b[0m\n\u001b[1;32m      4\u001b[0m \u001b[0mwrite_output\u001b[0m\u001b[0;34m(\u001b[0m\u001b[0mpreds_sig\u001b[0m\u001b[0;34m,\u001b[0m\u001b[0mtest_df\u001b[0m\u001b[0;34m,\u001b[0m\u001b[0mprefix\u001b[0m\u001b[0;34m=\u001b[0m\u001b[0;34m'sig_gbx_'\u001b[0m\u001b[0;34m)\u001b[0m\u001b[0;34m\u001b[0m\u001b[0m\n",
      "\u001b[0;31mTypeError\u001b[0m: write_output() got an unexpected keyword argument 'prefix'"
     ]
    }
   ],
   "source": [
    "preds_iso, pred_sig = runXGB_sklearn_calibration(train_X, train_y, test_X,num_rounds=2500)\n"
   ]
  },
  {
   "cell_type": "code",
   "execution_count": 193,
   "metadata": {
    "collapsed": false
   },
   "outputs": [],
   "source": [
    "write_output(preds_simple,test_df,prefix='orignal_gbx_')\n",
    "write_output(preds_iso,test_df,prefix= 'iso_gbx_')\n",
    "write_output(pred_sig,test_df,prefix='sig_gbx_')\n"
   ]
  },
  {
   "cell_type": "code",
   "execution_count": 236,
   "metadata": {
    "collapsed": true
   },
   "outputs": [],
   "source": [
    "def runXGB_sklearn_balance(train_X, train_y, sample_weight,prior, test_X, test_y=None, feature_names=None, seed_val=0, num_rounds=5000,verbose=True):\n",
    "\n",
    "    clf = XGBClassifier(n_estimators=num_rounds,\n",
    "                            objective='multi:softprob',\n",
    "                            learning_rate=0.01,\n",
    "                            max_depth=6,\n",
    "                            min_child_weight=1,\n",
    "                            subsample=.7,\n",
    "                            colsample_bytree=.7,\n",
    "                            colsample_bylevel=.5,\n",
    "                            gamma=0.005,\n",
    "                            scale_pos_weight=1,\n",
    "                            base_score=.5,\n",
    "                            #reg_lambda=0,\n",
    "                            #reg_alpha=0,\n",
    "                            #missing=0,\n",
    "                            seed=seed_val)\n",
    "    \n",
    "    if test_y is not None:\n",
    "        clf.fit(train_X, train_y,sample_weight= sample_weight,eval_set=[(train_X, train_y), (test_X, test_y)],verbose=verbose,eval_metric='mlogloss',\n",
    "            early_stopping_rounds=50)\n",
    "    else:        \n",
    "        clf.fit(train_X, train_y,sample_weight = sample_weight,verbose=False)\n",
    "    pred_test_y = clf.predict_proba(test_X)\n",
    "    \n",
    "    import pdb;pdb.set_trace()\n",
    "    pred_test_y = pred_test_y*prior\n",
    "    pred_test_y = pred_test_y/np.sum(pred_test_y,axis=1)\n",
    "    \n",
    "    return pred_test_y, clf"
   ]
  },
  {
   "cell_type": "code",
   "execution_count": 239,
   "metadata": {
    "collapsed": false
   },
   "outputs": [],
   "source": [
    "def unbalance_cv(train_df,test_df):\n",
    "    train_X = train_df[fealist].as_matrix()\n",
    "    test_X = test_df[fealist].as_matrix()\n",
    "    train_y = np.array(train_df['interest_level'])\n",
    "    prior = np.array(train_df['interest_level'].value_counts(),dtype=float)\n",
    "    prior = prior/np.sum(prior)\n",
    "    prior_inv = prior[-1]/prior\n",
    "    weights = np.ones(len(train_y))\n",
    "    for ii in range(len(prior)):\n",
    "        weights[train_y==ii] = prior_inv[ii]\n",
    "    cv_scores = [] \n",
    "    #print fea_categorical\n",
    "    #print fea_additional\n",
    "    #print feature_params\n",
    "    kf = model_selection.StratifiedKFold(n_splits=5, shuffle=True, random_state=2016)\n",
    "    for dev_index, val_index in kf.split(train_X,train_y):\n",
    "        import pdb;pdb.set_trace()\n",
    "        dev_X, val_X = train_X[dev_index,:], train_X[val_index,:]\n",
    "        dev_y, val_y = train_y[dev_index], train_y[val_index]\n",
    "        dev_w, val_w = weights[dev_index], weights[val_index]\n",
    "        preds, model = runXGB_sklearn_balance(dev_X, dev_y,dev_w,prior, val_X, val_y,verbose=False)\n",
    "        print('best iterations:{}, best_score={}, last_score={}'.format(model.best_iteration,\n",
    "                                                                   model.best_score,log_loss(val_y, preds)))\n",
    "        importance_inx = np.argsort(model.feature_importances_*-1)\n",
    "        print('Most important 40 features:')\n",
    "        ff = [(fealist[x],model.feature_importances_[x]) for x in importance_inx[:40]]\n",
    "        print(ff)\n",
    "        print('-------------------------')\n",
    "          \n",
    "    \n",
    "        cv_scores.append(log_loss(val_y, preds))\n",
    "    print 'mean score={}'.format(np.mean(cv_scores))"
   ]
  },
  {
   "cell_type": "code",
   "execution_count": 240,
   "metadata": {
    "collapsed": false
   },
   "outputs": [
    {
     "name": "stdout",
     "output_type": "stream",
     "text": [
      "> <ipython-input-239-d6339bf0da2c>(18)unbalance_cv()\n",
      "-> dev_X, val_X = train_X[dev_index,:], train_X[val_index,:]\n",
      "(Pdb) prior\n",
      "array([ 0.69468309,  0.22752877,  0.07778813])\n",
      "(Pdb) weights[:10]\n",
      "array([ 0.34188263,  0.11197643,  1.        ,  0.11197643,  0.11197643,\n",
      "        0.34188263,  0.11197643,  0.11197643,  0.34188263,  0.11197643])\n",
      "(Pdb) c\n",
      "> <ipython-input-236-497750e2325c>(27)runXGB_sklearn_balance()\n",
      "-> pred_test_y = pred_test_y*prior\n",
      "(Pdb) pred_test_y[:4,:]\n",
      "array([[ 0.19686683,  0.55499774,  0.24813548],\n",
      "       [ 0.63096684,  0.36363775,  0.00539541],\n",
      "       [ 0.29651287,  0.59226078,  0.11122637],\n",
      "       [ 0.07181653,  0.45893225,  0.46925119]], dtype=float32)\n",
      "(Pdb) tt =np.argmax(pred_test_y,axis=1)\n",
      "(Pdb) tt.shape\n",
      "(9871,)\n",
      "(Pdb) np.sum(tt,axis=0)\n",
      "4875\n",
      "(Pdb) tt[:10]\n",
      "array([1, 0, 1, 2, 2, 0, 1, 1, 1, 0])\n",
      "(Pdb) np.sum(tt==2)\n",
      "903\n",
      "(Pdb) np.sum(tt==1)\n",
      "3069\n",
      "(Pdb) np.sum(tt==0)\n",
      "5899\n",
      "(Pdb) prior\n",
      "array([ 0.69468309,  0.22752877,  0.07778813])\n",
      "(Pdb) n\n",
      "> <ipython-input-236-497750e2325c>(28)runXGB_sklearn_balance()\n",
      "-> pred_test_y = pred_test_y/np.sum(pred_test_y,axis=1)\n",
      "(Pdb) n\n",
      "ValueError: 'operands could not be broadcast together with shapes (9871,3) (9871,) '\n",
      "> <ipython-input-236-497750e2325c>(28)runXGB_sklearn_balance()\n",
      "-> pred_test_y = pred_test_y/np.sum(pred_test_y,axis=1)\n",
      "(Pdb) tt = pred_test_y.T/np.sum(pred_test_y,axis=1)\n",
      "(Pdb) tt.shape\n",
      "(3, 9871)\n",
      "(Pdb) tt = tt.T\n",
      "(Pdb) tt.shape\n",
      "(9871, 3)\n",
      "(Pdb) tt[:5,:]\n",
      "array([[  4.84380719e-01,   4.47254914e-01,   6.83643671e-02],\n",
      "       [  8.40535036e-01,   1.58660141e-01,   8.04823680e-04],\n",
      "       [  5.89547284e-01,   3.85689361e-01,   2.47633554e-02],\n",
      "       [  2.61459867e-01,   5.47241177e-01,   1.91298956e-01],\n",
      "       [  5.02824255e-01,   3.52073693e-01,   1.45102053e-01]])\n",
      "(Pdb) test_y[:5,:]\n",
      "*** IndexError: too many indices for array\n",
      "(Pdb) test_y[:5]\n",
      "array([ 2.,  1.,  0.,  1.,  2.])\n",
      "(Pdb) pred_test_y[:5,:]\n",
      "array([[  1.36760055e-01,   1.26277955e-01,   1.93019958e-02],\n",
      "       [  4.38321997e-01,   8.27380500e-02,   4.19699249e-04],\n",
      "       [  2.05982479e-01,   1.34756368e-01,   8.65209199e-03],\n",
      "       [  4.98897318e-02,   1.04420292e-01,   3.65021742e-02],\n",
      "       [  1.21556465e-01,   8.51129061e-02,   3.50780465e-02]])\n",
      "(Pdb) q\n"
     ]
    },
    {
     "ename": "BdbQuit",
     "evalue": "",
     "output_type": "error",
     "traceback": [
      "\u001b[0;31m---------------------------------------------------------------------------\u001b[0m",
      "\u001b[0;31mBdbQuit\u001b[0m                                   Traceback (most recent call last)",
      "\u001b[0;32m<ipython-input-240-a8ec57bbcd6c>\u001b[0m in \u001b[0;36m<module>\u001b[0;34m()\u001b[0m\n\u001b[0;32m----> 1\u001b[0;31m \u001b[0munbalance_cv\u001b[0m\u001b[0;34m(\u001b[0m\u001b[0mtrain_df\u001b[0m\u001b[0;34m,\u001b[0m\u001b[0mtest_df\u001b[0m\u001b[0;34m)\u001b[0m\u001b[0;34m\u001b[0m\u001b[0m\n\u001b[0m",
      "\u001b[0;32m<ipython-input-239-d6339bf0da2c>\u001b[0m in \u001b[0;36munbalance_cv\u001b[0;34m(train_df, test_df)\u001b[0m\n\u001b[1;32m     16\u001b[0m     \u001b[0;32mfor\u001b[0m \u001b[0mdev_index\u001b[0m\u001b[0;34m,\u001b[0m \u001b[0mval_index\u001b[0m \u001b[0;32min\u001b[0m \u001b[0mkf\u001b[0m\u001b[0;34m.\u001b[0m\u001b[0msplit\u001b[0m\u001b[0;34m(\u001b[0m\u001b[0mtrain_X\u001b[0m\u001b[0;34m,\u001b[0m\u001b[0mtrain_y\u001b[0m\u001b[0;34m)\u001b[0m\u001b[0;34m:\u001b[0m\u001b[0;34m\u001b[0m\u001b[0m\n\u001b[1;32m     17\u001b[0m         \u001b[0;32mimport\u001b[0m \u001b[0mpdb\u001b[0m\u001b[0;34m;\u001b[0m\u001b[0mpdb\u001b[0m\u001b[0;34m.\u001b[0m\u001b[0mset_trace\u001b[0m\u001b[0;34m(\u001b[0m\u001b[0;34m)\u001b[0m\u001b[0;34m\u001b[0m\u001b[0m\n\u001b[0;32m---> 18\u001b[0;31m         \u001b[0mdev_X\u001b[0m\u001b[0;34m,\u001b[0m \u001b[0mval_X\u001b[0m \u001b[0;34m=\u001b[0m \u001b[0mtrain_X\u001b[0m\u001b[0;34m[\u001b[0m\u001b[0mdev_index\u001b[0m\u001b[0;34m,\u001b[0m\u001b[0;34m:\u001b[0m\u001b[0;34m]\u001b[0m\u001b[0;34m,\u001b[0m \u001b[0mtrain_X\u001b[0m\u001b[0;34m[\u001b[0m\u001b[0mval_index\u001b[0m\u001b[0;34m,\u001b[0m\u001b[0;34m:\u001b[0m\u001b[0;34m]\u001b[0m\u001b[0;34m\u001b[0m\u001b[0m\n\u001b[0m\u001b[1;32m     19\u001b[0m         \u001b[0mdev_y\u001b[0m\u001b[0;34m,\u001b[0m \u001b[0mval_y\u001b[0m \u001b[0;34m=\u001b[0m \u001b[0mtrain_y\u001b[0m\u001b[0;34m[\u001b[0m\u001b[0mdev_index\u001b[0m\u001b[0;34m]\u001b[0m\u001b[0;34m,\u001b[0m \u001b[0mtrain_y\u001b[0m\u001b[0;34m[\u001b[0m\u001b[0mval_index\u001b[0m\u001b[0;34m]\u001b[0m\u001b[0;34m\u001b[0m\u001b[0m\n\u001b[1;32m     20\u001b[0m         \u001b[0mdev_w\u001b[0m\u001b[0;34m,\u001b[0m \u001b[0mval_w\u001b[0m \u001b[0;34m=\u001b[0m \u001b[0mweights\u001b[0m\u001b[0;34m[\u001b[0m\u001b[0mdev_index\u001b[0m\u001b[0;34m]\u001b[0m\u001b[0;34m,\u001b[0m \u001b[0mweights\u001b[0m\u001b[0;34m[\u001b[0m\u001b[0mval_index\u001b[0m\u001b[0;34m]\u001b[0m\u001b[0;34m\u001b[0m\u001b[0m\n",
      "\u001b[0;32m<ipython-input-236-497750e2325c>\u001b[0m in \u001b[0;36mrunXGB_sklearn_balance\u001b[0;34m(train_X, train_y, sample_weight, prior, test_X, test_y, feature_names, seed_val, num_rounds, verbose)\u001b[0m\n\u001b[1;32m     26\u001b[0m     \u001b[0;32mimport\u001b[0m \u001b[0mpdb\u001b[0m\u001b[0;34m;\u001b[0m\u001b[0mpdb\u001b[0m\u001b[0;34m.\u001b[0m\u001b[0mset_trace\u001b[0m\u001b[0;34m(\u001b[0m\u001b[0;34m)\u001b[0m\u001b[0;34m\u001b[0m\u001b[0m\n\u001b[1;32m     27\u001b[0m     \u001b[0mpred_test_y\u001b[0m \u001b[0;34m=\u001b[0m \u001b[0mpred_test_y\u001b[0m\u001b[0;34m*\u001b[0m\u001b[0mprior\u001b[0m\u001b[0;34m\u001b[0m\u001b[0m\n\u001b[0;32m---> 28\u001b[0;31m     \u001b[0mpred_test_y\u001b[0m \u001b[0;34m=\u001b[0m \u001b[0mpred_test_y\u001b[0m\u001b[0;34m/\u001b[0m\u001b[0mnp\u001b[0m\u001b[0;34m.\u001b[0m\u001b[0msum\u001b[0m\u001b[0;34m(\u001b[0m\u001b[0mpred_test_y\u001b[0m\u001b[0;34m,\u001b[0m\u001b[0maxis\u001b[0m\u001b[0;34m=\u001b[0m\u001b[0;36m1\u001b[0m\u001b[0;34m)\u001b[0m\u001b[0;34m\u001b[0m\u001b[0m\n\u001b[0m\u001b[1;32m     29\u001b[0m \u001b[0;34m\u001b[0m\u001b[0m\n\u001b[1;32m     30\u001b[0m     \u001b[0;32mreturn\u001b[0m \u001b[0mpred_test_y\u001b[0m\u001b[0;34m,\u001b[0m \u001b[0mclf\u001b[0m\u001b[0;34m\u001b[0m\u001b[0m\n",
      "\u001b[0;32m/home/jianqi/anaconda2/envs/xgboost/lib/python2.7/bdb.pyc\u001b[0m in \u001b[0;36mtrace_dispatch\u001b[0;34m(self, frame, event, arg)\u001b[0m\n\u001b[1;32m     53\u001b[0m             \u001b[0;32mreturn\u001b[0m \u001b[0mself\u001b[0m\u001b[0;34m.\u001b[0m\u001b[0mdispatch_return\u001b[0m\u001b[0;34m(\u001b[0m\u001b[0mframe\u001b[0m\u001b[0;34m,\u001b[0m \u001b[0marg\u001b[0m\u001b[0;34m)\u001b[0m\u001b[0;34m\u001b[0m\u001b[0m\n\u001b[1;32m     54\u001b[0m         \u001b[0;32mif\u001b[0m \u001b[0mevent\u001b[0m \u001b[0;34m==\u001b[0m \u001b[0;34m'exception'\u001b[0m\u001b[0;34m:\u001b[0m\u001b[0;34m\u001b[0m\u001b[0m\n\u001b[0;32m---> 55\u001b[0;31m             \u001b[0;32mreturn\u001b[0m \u001b[0mself\u001b[0m\u001b[0;34m.\u001b[0m\u001b[0mdispatch_exception\u001b[0m\u001b[0;34m(\u001b[0m\u001b[0mframe\u001b[0m\u001b[0;34m,\u001b[0m \u001b[0marg\u001b[0m\u001b[0;34m)\u001b[0m\u001b[0;34m\u001b[0m\u001b[0m\n\u001b[0m\u001b[1;32m     56\u001b[0m         \u001b[0;32mif\u001b[0m \u001b[0mevent\u001b[0m \u001b[0;34m==\u001b[0m \u001b[0;34m'c_call'\u001b[0m\u001b[0;34m:\u001b[0m\u001b[0;34m\u001b[0m\u001b[0m\n\u001b[1;32m     57\u001b[0m             \u001b[0;32mreturn\u001b[0m \u001b[0mself\u001b[0m\u001b[0;34m.\u001b[0m\u001b[0mtrace_dispatch\u001b[0m\u001b[0;34m\u001b[0m\u001b[0m\n",
      "\u001b[0;32m/home/jianqi/anaconda2/envs/xgboost/lib/python2.7/bdb.pyc\u001b[0m in \u001b[0;36mdispatch_exception\u001b[0;34m(self, frame, arg)\u001b[0m\n\u001b[1;32m     95\u001b[0m         \u001b[0;32mif\u001b[0m \u001b[0mself\u001b[0m\u001b[0;34m.\u001b[0m\u001b[0mstop_here\u001b[0m\u001b[0;34m(\u001b[0m\u001b[0mframe\u001b[0m\u001b[0;34m)\u001b[0m\u001b[0;34m:\u001b[0m\u001b[0;34m\u001b[0m\u001b[0m\n\u001b[1;32m     96\u001b[0m             \u001b[0mself\u001b[0m\u001b[0;34m.\u001b[0m\u001b[0muser_exception\u001b[0m\u001b[0;34m(\u001b[0m\u001b[0mframe\u001b[0m\u001b[0;34m,\u001b[0m \u001b[0marg\u001b[0m\u001b[0;34m)\u001b[0m\u001b[0;34m\u001b[0m\u001b[0m\n\u001b[0;32m---> 97\u001b[0;31m             \u001b[0;32mif\u001b[0m \u001b[0mself\u001b[0m\u001b[0;34m.\u001b[0m\u001b[0mquitting\u001b[0m\u001b[0;34m:\u001b[0m \u001b[0;32mraise\u001b[0m \u001b[0mBdbQuit\u001b[0m\u001b[0;34m\u001b[0m\u001b[0m\n\u001b[0m\u001b[1;32m     98\u001b[0m         \u001b[0;32mreturn\u001b[0m \u001b[0mself\u001b[0m\u001b[0;34m.\u001b[0m\u001b[0mtrace_dispatch\u001b[0m\u001b[0;34m\u001b[0m\u001b[0m\n\u001b[1;32m     99\u001b[0m \u001b[0;34m\u001b[0m\u001b[0m\n",
      "\u001b[0;31mBdbQuit\u001b[0m: "
     ]
    }
   ],
   "source": [
    "unbalance_cv(train_df,test_df)"
   ]
  },
  {
   "cell_type": "code",
   "execution_count": 208,
   "metadata": {
    "collapsed": false
   },
   "outputs": [
    {
     "data": {
      "text/plain": [
       "(-0.0027036747767468787, 0.46006753549545532)"
      ]
     },
     "execution_count": 208,
     "metadata": {},
     "output_type": "execute_result"
    }
   ],
   "source": [
    "pearsonr(preds_simple[:,0],pred[:,0])"
   ]
  },
  {
   "cell_type": "code",
   "execution_count": 206,
   "metadata": {
    "collapsed": false
   },
   "outputs": [
    {
     "data": {
      "text/plain": [
       "array([[  9.45206132e-01,   4.78140554e-02,   6.97981468e-03],\n",
       "       [  9.51696919e-01,   3.91251743e-02,   9.17792226e-03],\n",
       "       [  9.94452688e-01,   5.15242516e-03,   3.94887566e-04],\n",
       "       [  9.79844915e-01,   1.86162812e-02,   1.53880138e-03],\n",
       "       [  9.89451905e-01,   9.73770690e-03,   8.10384734e-04]])"
      ]
     },
     "execution_count": 206,
     "metadata": {},
     "output_type": "execute_result"
    }
   ],
   "source": [
    "pred[:5,:]"
   ]
  },
  {
   "cell_type": "code",
   "execution_count": 207,
   "metadata": {
    "collapsed": false
   },
   "outputs": [
    {
     "data": {
      "text/plain": [
       "array([[ 0.43452139,  0.47143835,  0.09404026],\n",
       "       [ 0.98532992,  0.01069244,  0.00397763],\n",
       "       [ 0.74043381,  0.22978159,  0.02978459],\n",
       "       [ 0.41151256,  0.48588327,  0.10260417],\n",
       "       [ 0.68752913,  0.25054251,  0.06192836]])"
      ]
     },
     "execution_count": 207,
     "metadata": {},
     "output_type": "execute_result"
    }
   ],
   "source": [
    "preds_iso[:5,:]"
   ]
  },
  {
   "cell_type": "code",
   "execution_count": 209,
   "metadata": {
    "collapsed": true
   },
   "outputs": [],
   "source": [
    "pp = (pred+preds_iso)/2"
   ]
  },
  {
   "cell_type": "code",
   "execution_count": 210,
   "metadata": {
    "collapsed": true
   },
   "outputs": [],
   "source": [
    "write_output(pp,test_df,prefix='merge')"
   ]
  },
  {
   "cell_type": "code",
   "execution_count": 191,
   "metadata": {
    "collapsed": true
   },
   "outputs": [],
   "source": [
    "def write_output(preds,test_df,prefix=''):\n",
    "    out_df = pd.DataFrame(preds)\n",
    "    out_df.columns = [\"low\", \"medium\", \"high\"]\n",
    "    out_df[\"listing_id\"] = test_df.listing_id.values\n",
    "    \n",
    "    import time\n",
    "    filename = prefix + time.strftime(\"%Y.%m.%d.\") + str(np.random.randint(0,100000))+'.res.csv'\n",
    "    out_df.to_csv(filename, index=False)"
   ]
  },
  {
   "cell_type": "code",
   "execution_count": 127,
   "metadata": {
    "collapsed": true
   },
   "outputs": [],
   "source": [
    "def xgb_train_cv(train_df,test_df,fealist,target_col='interest_level',cv_fold=5,verbose=True):\n",
    "    train_X = train_df[fealist].as_matrix()\n",
    "    test_X = test_df[fealist].as_matrix()\n",
    "    train_y = np.array(train_df[target_col])\n",
    "    \n",
    "    kf = model_selection.StratifiedKFold(n_splits=cv_fold, shuffle=True, random_state=2016)\n",
    "    best_iteration = 0\n",
    "    print('Cross_validating to find the best iteration number')\n",
    "    for dev_index, val_index in kf.split(X_tr,y_tr):\n",
    "        dev_X, val_X = X_tr[dev_index,:], X_tr[val_index,:]\n",
    "        dev_y, val_y = y_tr[dev_index], y_tr[val_index]\n",
    "        preds, model = runXGB_sklearn(dev_X, dev_y, val_X, val_y,verbose=False)\n",
    "        \n",
    "        if verbose:\n",
    "            print('best iterations:{}, best_score={}, last_score={}'.format(model.best_iteration,\n",
    "                                                                   model.best_score,log_loss(val_y, preds)))\n",
    "            importance_inx = np.argsort(model.feature_importances_*-1)\n",
    "            print('Most important 20 features:')\n",
    "            ff = [(fealist[x],model.feature_importances_[x]) for x in importance_inx[:20]]\n",
    "            print(ff)\n",
    "            print('-------------------------')\n",
    "        tmp = model.best_iteration\n",
    "        best_iteration = tmp if tmp>best_iteration else best_iteration\n",
    "        cv_scores.append(log_loss(val_y, preds))    \n",
    "    print 'mean score={}'.format(np.mean(cv_scores))\n",
    "    \n",
    "    preds, model = runXGB_sklearn(X_tr, y_tr, X_te,num_rounds=int(best_iteration*1.02))\n",
    "    return pred\n",
    "\n",
    "def xgb_train_cv_np(X_tr,y_tr,X_te,cv_fold=5,verbose=True):\n",
    "    #import pdb;pdb.set_trace()\n",
    "    kf = model_selection.StratifiedKFold(n_splits=cv_fold, shuffle=True)\n",
    "    best_iteration = 0\n",
    "    cv_scores = []\n",
    "    print('Cross_validating to find the best iteration number')\n",
    "    for dev_index, val_index in kf.split(X_tr,y_tr):\n",
    "        dev_X, val_X = X_tr[dev_index,:], X_tr[val_index,:]\n",
    "        dev_y, val_y = y_tr[dev_index], y_tr[val_index]\n",
    "        preds, model = runXGB_sklearn(dev_X, dev_y, val_X, val_y,verbose=False)\n",
    "        \n",
    "        if verbose:\n",
    "            print('best iterations:{}, best_score={}, last_score={}'.format(model.best_iteration,\n",
    "                                                                   model.best_score,log_loss(val_y, preds)))            \n",
    "            print('-------------------------')\n",
    "        tmp = model.best_iteration\n",
    "        best_iteration = tmp if tmp>best_iteration else best_iteration\n",
    "        cv_scores.append(log_loss(val_y, preds))    \n",
    "    print 'mean score={}'.format(np.mean(cv_scores))\n",
    "    \n",
    "    preds, model = runXGB_sklearn(X_tr, y_tr, X_te,num_rounds=int(best_iteration*1.02))\n",
    "    return preds"
   ]
  },
  {
   "cell_type": "code",
   "execution_count": 163,
   "metadata": {
    "collapsed": true
   },
   "outputs": [],
   "source": [
    "def simple_cv(train_df,test_df):\n",
    "    train_X = train_df[fealist].as_matrix()\n",
    "    test_X = test_df[fealist].as_matrix()\n",
    "    train_y = np.array(train_df['interest_level'])\n",
    "    \n",
    "    cv_scores = [] \n",
    "    #print fea_categorical\n",
    "    #print fea_additional\n",
    "    #print feature_params\n",
    "    kf = model_selection.StratifiedKFold(n_splits=5, shuffle=True, random_state=2016)\n",
    "    for dev_index, val_index in kf.split(train_X,train_y):\n",
    "        dev_X, val_X = train_X[dev_index,:], train_X[val_index,:]\n",
    "        dev_y, val_y = train_y[dev_index], train_y[val_index]\n",
    "        preds, model = runXGB_sklearn(dev_X, dev_y, val_X, val_y,verbose=False)\n",
    "        print('best iterations:{}, best_score={}, last_score={}'.format(model.best_iteration,\n",
    "                                                                   model.best_score,log_loss(val_y, preds)))\n",
    "        importance_inx = np.argsort(model.feature_importances_*-1)\n",
    "        print('Most important 40 features:')\n",
    "        ff = [(fealist[x],model.feature_importances_[x]) for x in importance_inx[:40]]\n",
    "        print(ff)\n",
    "        print('-------------------------')\n",
    "          \n",
    "    \n",
    "        cv_scores.append(log_loss(val_y, preds))\n",
    "    print 'mean score={}'.format(np.mean(cv_scores))"
   ]
  },
  {
   "cell_type": "code",
   "execution_count": 141,
   "metadata": {
    "collapsed": true
   },
   "outputs": [],
   "source": [
    "def stacking(X_train,y_train,X_test,nClass,nFold=9):\n",
    "    from sklearn.ensemble import RandomForestClassifier\n",
    "    \n",
    "    pred = np.zeros((X_test.shape[0],nClass))\n",
    "    kfold = StratifiedKFold(nFold,shuffle=True)\n",
    "    for tr_inx,cv_inx in kfold.split(X_train,y_train):\n",
    "        #import pdb;pdb.set_trace()\n",
    "        rf = RandomForestClassifier(100)\n",
    "        rf.fit(X_train[cv_inx,:],y_train[cv_inx])\n",
    "        tr_pred = rf.predict_proba(X_train[tr_inx,:])\n",
    "        te_pred = rf.predict_proba(X_test)\n",
    "        X_train_ex = np.hstack((X_train[tr_inx,:],tr_pred))\n",
    "        X_test_ex = np.hstack((X_test,te_pred))\n",
    "        #pred += xgb_train_cv_np(X_train_ex,y_train[tr_inx],X_test_ex)\n",
    "        tmp,_ = runXGB_sklearn(X_train_ex,y_train[tr_inx],X_test_ex,num_rounds=2800)\n",
    "        pred += tmp\n",
    "    pred = pred/nFold\n",
    "    return pred"
   ]
  },
  {
   "cell_type": "code",
   "execution_count": 137,
   "metadata": {
    "collapsed": false
   },
   "outputs": [],
   "source": [
    "train_X = train_df[fealist].as_matrix()\n",
    "test_X = test_df[fealist].as_matrix()\n",
    "train_y = np.array(train_df['interest_level'])"
   ]
  },
  {
   "cell_type": "code",
   "execution_count": 142,
   "metadata": {
    "collapsed": false
   },
   "outputs": [],
   "source": [
    "pred = stacking(train_X,train_y,test_X,nClass=3,nFold=9)"
   ]
  },
  {
   "cell_type": "code",
   "execution_count": 143,
   "metadata": {
    "collapsed": false
   },
   "outputs": [],
   "source": [
    "out_df = pd.DataFrame(pred)\n",
    "out_df.columns = [\"low\", \"medium\", \"high\"]\n",
    "out_df[\"listing_id\"] = test_df.listing_id.values"
   ]
  },
  {
   "cell_type": "code",
   "execution_count": 144,
   "metadata": {
    "collapsed": true
   },
   "outputs": [],
   "source": [
    "out_df.to_csv('stacking_gbm_quant.csv', index=False)"
   ]
  },
  {
   "cell_type": "code",
   "execution_count": 66,
   "metadata": {
    "collapsed": false
   },
   "outputs": [],
   "source": [
    "test_df['pred'] = np.argmax(pred,axis=1)"
   ]
  },
  {
   "cell_type": "code",
   "execution_count": 69,
   "metadata": {
    "collapsed": true
   },
   "outputs": [],
   "source": [
    "tt = pd.get_dummies(test_df['pred'],prefix='pred')"
   ]
  },
  {
   "cell_type": "code",
   "execution_count": 99,
   "metadata": {
    "collapsed": false
   },
   "outputs": [
    {
     "data": {
      "text/plain": [
       "pred_0    0.761663\n",
       "pred_1    0.195824\n",
       "pred_2    0.042513\n",
       "dtype: float64"
      ]
     },
     "execution_count": 99,
     "metadata": {},
     "output_type": "execute_result"
    }
   ],
   "source": [
    "tt.sum()*1./len(test_df)"
   ]
  },
  {
   "cell_type": "code",
   "execution_count": 98,
   "metadata": {
    "collapsed": false
   },
   "outputs": [
    {
     "data": {
      "text/plain": [
       "0.0    0.694683\n",
       "1.0    0.227529\n",
       "2.0    0.077788\n",
       "Name: interest_level, dtype: float64"
      ]
     },
     "execution_count": 98,
     "metadata": {},
     "output_type": "execute_result"
    }
   ],
   "source": [
    "train_df['interest_level'].value_counts()*1.0/len(train_df)"
   ]
  },
  {
   "cell_type": "code",
   "execution_count": 100,
   "metadata": {
    "collapsed": true
   },
   "outputs": [],
   "source": [
    "out_df['high'] = out_df['high']*.077788/.042513\n",
    "out_df['medium'] = out_df['medium']*.227529/.195824\n",
    "out_df['high'] = out_df['high']*.694683/.761663"
   ]
  },
  {
   "cell_type": "code",
   "execution_count": 101,
   "metadata": {
    "collapsed": true
   },
   "outputs": [],
   "source": [
    "sump = out_df[['high','medium','low']].sum(axis=1)"
   ]
  },
  {
   "cell_type": "code",
   "execution_count": 103,
   "metadata": {
    "collapsed": false
   },
   "outputs": [],
   "source": [
    "out_df['high'] = out_df['high']/sump"
   ]
  },
  {
   "cell_type": "code",
   "execution_count": 104,
   "metadata": {
    "collapsed": true
   },
   "outputs": [],
   "source": [
    "out_df['medium']=out_df['medium']/sump\n",
    "out_df['low'] = out_df['low']/sump"
   ]
  },
  {
   "cell_type": "code",
   "execution_count": 106,
   "metadata": {
    "collapsed": false
   },
   "outputs": [],
   "source": [
    "ttt = np.argmax(out_df[['low','medium','high']].as_matrix(),axis=1)"
   ]
  },
  {
   "cell_type": "code",
   "execution_count": 109,
   "metadata": {
    "collapsed": false
   },
   "outputs": [
    {
     "data": {
      "text/plain": [
       "0.13346013206713189"
      ]
     },
     "execution_count": 109,
     "metadata": {},
     "output_type": "execute_result"
    }
   ],
   "source": [
    "np.sum(ttt[ttt>1])*1./len(ttt)"
   ]
  },
  {
   "cell_type": "code",
   "execution_count": 97,
   "metadata": {
    "collapsed": false
   },
   "outputs": [
    {
     "data": {
      "text/plain": [
       "0.6919418827100846"
      ]
     },
     "execution_count": 97,
     "metadata": {},
     "output_type": "execute_result"
    }
   ],
   "source": [
    "n_low/total"
   ]
  },
  {
   "cell_type": "code",
   "execution_count": 95,
   "metadata": {
    "collapsed": false
   },
   "outputs": [
    {
     "data": {
      "text/plain": [
       "0.23109374898212232"
      ]
     },
     "execution_count": 95,
     "metadata": {},
     "output_type": "execute_result"
    }
   ],
   "source": [
    "n_med/total"
   ]
  },
  {
   "cell_type": "code",
   "execution_count": 94,
   "metadata": {
    "collapsed": false
   },
   "outputs": [
    {
     "data": {
      "text/plain": [
       "0.07696436830779321"
      ]
     },
     "execution_count": 94,
     "metadata": {},
     "output_type": "execute_result"
    }
   ],
   "source": [
    "n_high/total"
   ]
  },
  {
   "cell_type": "code",
   "execution_count": 83,
   "metadata": {
    "collapsed": true
   },
   "outputs": [],
   "source": [
    "low = out_df.copy()\n",
    "low['low']=1\n",
    "low['medium']=0\n",
    "low['high']=0\n",
    "low.to_csv('all_low.csv',index=False)"
   ]
  },
  {
   "cell_type": "code",
   "execution_count": 87,
   "metadata": {
    "collapsed": false
   },
   "outputs": [],
   "source": [
    "high = out_df.copy()\n",
    "high['low']=0\n",
    "high['medium']=0\n",
    "high['high']=1\n",
    "high.to_csv('all_high.csv',index=False)"
   ]
  },
  {
   "cell_type": "code",
   "execution_count": 86,
   "metadata": {
    "collapsed": true
   },
   "outputs": [],
   "source": [
    "med = out_df.copy()\n",
    "med['low']=0\n",
    "med['medium']=1\n",
    "med['high']=0\n",
    "med.to_csv('all_med.csv',index=False)"
   ]
  },
  {
   "cell_type": "code",
   "execution_count": 88,
   "metadata": {
    "collapsed": true
   },
   "outputs": [],
   "source": [
    "a,b,c=31.88052,26.55708,10.63995"
   ]
  },
  {
   "cell_type": "code",
   "execution_count": 89,
   "metadata": {
    "collapsed": true
   },
   "outputs": [],
   "source": [
    "total = (a+b+c)/2"
   ]
  },
  {
   "cell_type": "code",
   "execution_count": 90,
   "metadata": {
    "collapsed": true
   },
   "outputs": [],
   "source": [
    "n_high = total-a\n",
    "n_med = total-b\n",
    "n_low = total-c"
   ]
  },
  {
   "cell_type": "code",
   "execution_count": 71,
   "metadata": {
    "collapsed": false
   },
   "outputs": [],
   "source": [
    "tmp = test_df.join(tt)\n"
   ]
  },
  {
   "cell_type": "code",
   "execution_count": 73,
   "metadata": {
    "collapsed": true
   },
   "outputs": [],
   "source": [
    "tmp = tmp[(tmp['longitude']<-73.95)&(tmp['longitude']>-74.05)&(tmp['latitude']<41)&(tmp['latitude']>40.7)]"
   ]
  },
  {
   "cell_type": "code",
   "execution_count": 74,
   "metadata": {
    "collapsed": true
   },
   "outputs": [],
   "source": [
    "low = tmp[tmp['pred']==0]\n",
    "med = tmp[tmp['pred']==1]\n",
    "high = tmp[tmp['pred']==2]"
   ]
  },
  {
   "cell_type": "code",
   "execution_count": 75,
   "metadata": {
    "collapsed": true
   },
   "outputs": [],
   "source": [
    "from matplotlib import pyplot as plt\n",
    "%matplotlib inline"
   ]
  },
  {
   "cell_type": "code",
   "execution_count": 76,
   "metadata": {
    "collapsed": false
   },
   "outputs": [
    {
     "data": {
      "text/plain": [
       "<matplotlib.collections.PathCollection at 0x7f239d5ff750>"
      ]
     },
     "execution_count": 76,
     "metadata": {},
     "output_type": "execute_result"
    },
    {
     "data": {
      "image/png": "[encoded data removed]",
      "text/plain": [
       "<matplotlib.figure.Figure at 0x7f2389b0e410>"
      ]
     },
     "metadata": {},
     "output_type": "display_data"
    }
   ],
   "source": [
    "plt.scatter(low['longitude'],low['latitude'])"
   ]
  },
  {
   "cell_type": "code",
   "execution_count": 77,
   "metadata": {
    "collapsed": false
   },
   "outputs": [
    {
     "data": {
      "text/plain": [
       "<matplotlib.collections.PathCollection at 0x7f2389b3cf50>"
      ]
     },
     "execution_count": 77,
     "metadata": {},
     "output_type": "execute_result"
    },
    {
     "data": {
      "image/png": "[encoded data removed]",
      "text/plain": [
       "<matplotlib.figure.Figure at 0x7f237ff4b050>"
      ]
     },
     "metadata": {},
     "output_type": "display_data"
    }
   ],
   "source": [
    "plt.scatter(med['longitude'],med['latitude'])"
   ]
  },
  {
   "cell_type": "code",
   "execution_count": 78,
   "metadata": {
    "collapsed": false
   },
   "outputs": [
    {
     "data": {
      "text/plain": [
       "<matplotlib.collections.PathCollection at 0x7f23823b9850>"
      ]
     },
     "execution_count": 78,
     "metadata": {},
     "output_type": "execute_result"
    },
    {
     "data": {
      "image/png": "[encoded data removed]",
      "text/plain": [
       "<matplotlib.figure.Figure at 0x7f23834aefd0>"
      ]
     },
     "metadata": {},
     "output_type": "display_data"
    }
   ],
   "source": [
    "plt.scatter(high['longitude'],high['latitude'])"
   ]
  },
  {
   "cell_type": "code",
   "execution_count": null,
   "metadata": {
    "collapsed": true
   },
   "outputs": [],
   "source": []
  },
  {
   "cell_type": "code",
   "execution_count": 121,
   "metadata": {
    "collapsed": false
   },
   "outputs": [
    {
     "name": "stdout",
     "output_type": "stream",
     "text": [
      "['building_id', 'manager_id', 'display_address', 'building_id_medium', 'building_id_high', 'manager_id_medium', 'manager_id_high']\n",
      "['weekdays', 'manager_count', 'building_count', 'num_features', 'num_description_words', 'days', 'num_photos', 'created_month', 'created_day', 'created_hour']\n",
      "{'nTextFea': 300, 'step_size': 0.02, 'nQuantLevel': 10, 'category_nfold': 3}\n"
     ]
    },
    {
     "ename": "KeyboardInterrupt",
     "evalue": "",
     "output_type": "error",
     "traceback": [
      "\u001b[0;31m---------------------------------------------------------------------------\u001b[0m",
      "\u001b[0;31mKeyboardInterrupt\u001b[0m                         Traceback (most recent call last)",
      "\u001b[0;32m<ipython-input-121-6c0889af6f02>\u001b[0m in \u001b[0;36m<module>\u001b[0;34m()\u001b[0m\n\u001b[1;32m      7\u001b[0m     \u001b[0mdev_X\u001b[0m\u001b[0;34m,\u001b[0m \u001b[0mval_X\u001b[0m \u001b[0;34m=\u001b[0m \u001b[0mtrain_X\u001b[0m\u001b[0;34m[\u001b[0m\u001b[0mdev_index\u001b[0m\u001b[0;34m,\u001b[0m\u001b[0;34m:\u001b[0m\u001b[0;34m]\u001b[0m\u001b[0;34m,\u001b[0m \u001b[0mtrain_X\u001b[0m\u001b[0;34m[\u001b[0m\u001b[0mval_index\u001b[0m\u001b[0;34m,\u001b[0m\u001b[0;34m:\u001b[0m\u001b[0;34m]\u001b[0m\u001b[0;34m\u001b[0m\u001b[0m\n\u001b[1;32m      8\u001b[0m     \u001b[0mdev_y\u001b[0m\u001b[0;34m,\u001b[0m \u001b[0mval_y\u001b[0m \u001b[0;34m=\u001b[0m \u001b[0mtrain_y\u001b[0m\u001b[0;34m[\u001b[0m\u001b[0mdev_index\u001b[0m\u001b[0;34m]\u001b[0m\u001b[0;34m,\u001b[0m \u001b[0mtrain_y\u001b[0m\u001b[0;34m[\u001b[0m\u001b[0mval_index\u001b[0m\u001b[0;34m]\u001b[0m\u001b[0;34m\u001b[0m\u001b[0m\n\u001b[0;32m----> 9\u001b[0;31m     \u001b[0mpreds\u001b[0m\u001b[0;34m,\u001b[0m \u001b[0mmodel\u001b[0m \u001b[0;34m=\u001b[0m \u001b[0mrunXGB_sklearn\u001b[0m\u001b[0;34m(\u001b[0m\u001b[0mdev_X\u001b[0m\u001b[0;34m,\u001b[0m \u001b[0mdev_y\u001b[0m\u001b[0;34m,\u001b[0m \u001b[0mval_X\u001b[0m\u001b[0;34m,\u001b[0m \u001b[0mval_y\u001b[0m\u001b[0;34m,\u001b[0m\u001b[0mverbose\u001b[0m\u001b[0;34m=\u001b[0m\u001b[0mFalse\u001b[0m\u001b[0;34m)\u001b[0m\u001b[0;34m\u001b[0m\u001b[0m\n\u001b[0m\u001b[1;32m     10\u001b[0m     \u001b[0;31m#import pdb;pdb.set_trace()\u001b[0m\u001b[0;34m\u001b[0m\u001b[0;34m\u001b[0m\u001b[0m\n\u001b[1;32m     11\u001b[0m     print('best iterations:{}, best_score={}, last_score={}'.format(model.best_iteration,\n",
      "\u001b[0;32m<ipython-input-66-cf98af98fb49>\u001b[0m in \u001b[0;36mrunXGB_sklearn\u001b[0;34m(train_X, train_y, test_X, test_y, feature_names, seed_val, num_rounds, verbose)\u001b[0m\n\u001b[1;32m     19\u001b[0m     \u001b[0;32mif\u001b[0m \u001b[0mtest_y\u001b[0m \u001b[0;32mis\u001b[0m \u001b[0;32mnot\u001b[0m \u001b[0mNone\u001b[0m\u001b[0;34m:\u001b[0m\u001b[0;34m\u001b[0m\u001b[0m\n\u001b[1;32m     20\u001b[0m         clf.fit(train_X, train_y,eval_set=[(train_X, train_y), (test_X, test_y)],verbose=verbose,eval_metric='mlogloss',\n\u001b[0;32m---> 21\u001b[0;31m             early_stopping_rounds=50)\n\u001b[0m\u001b[1;32m     22\u001b[0m     \u001b[0;32melse\u001b[0m\u001b[0;34m:\u001b[0m\u001b[0;34m\u001b[0m\u001b[0m\n\u001b[1;32m     23\u001b[0m         \u001b[0mclf\u001b[0m\u001b[0;34m.\u001b[0m\u001b[0mfit\u001b[0m\u001b[0;34m(\u001b[0m\u001b[0mtrain_X\u001b[0m\u001b[0;34m,\u001b[0m \u001b[0mtrain_y\u001b[0m\u001b[0;34m,\u001b[0m\u001b[0mverbose\u001b[0m\u001b[0;34m=\u001b[0m\u001b[0mFalse\u001b[0m\u001b[0;34m)\u001b[0m\u001b[0;34m\u001b[0m\u001b[0m\n",
      "\u001b[0;32m/home/jianqi/anaconda2/envs/xgboost/lib/python2.7/site-packages/xgboost/sklearn.pyc\u001b[0m in \u001b[0;36mfit\u001b[0;34m(self, X, y, sample_weight, eval_set, eval_metric, early_stopping_rounds, verbose)\u001b[0m\n\u001b[1;32m    443\u001b[0m                               \u001b[0mearly_stopping_rounds\u001b[0m\u001b[0;34m=\u001b[0m\u001b[0mearly_stopping_rounds\u001b[0m\u001b[0;34m,\u001b[0m\u001b[0;34m\u001b[0m\u001b[0m\n\u001b[1;32m    444\u001b[0m                               \u001b[0mevals_result\u001b[0m\u001b[0;34m=\u001b[0m\u001b[0mevals_result\u001b[0m\u001b[0;34m,\u001b[0m \u001b[0mobj\u001b[0m\u001b[0;34m=\u001b[0m\u001b[0mobj\u001b[0m\u001b[0;34m,\u001b[0m \u001b[0mfeval\u001b[0m\u001b[0;34m=\u001b[0m\u001b[0mfeval\u001b[0m\u001b[0;34m,\u001b[0m\u001b[0;34m\u001b[0m\u001b[0m\n\u001b[0;32m--> 445\u001b[0;31m                               verbose_eval=verbose)\n\u001b[0m\u001b[1;32m    446\u001b[0m \u001b[0;34m\u001b[0m\u001b[0m\n\u001b[1;32m    447\u001b[0m         \u001b[0mself\u001b[0m\u001b[0;34m.\u001b[0m\u001b[0mobjective\u001b[0m \u001b[0;34m=\u001b[0m \u001b[0mxgb_options\u001b[0m\u001b[0;34m[\u001b[0m\u001b[0;34m\"objective\"\u001b[0m\u001b[0;34m]\u001b[0m\u001b[0;34m\u001b[0m\u001b[0m\n",
      "\u001b[0;32m/home/jianqi/anaconda2/envs/xgboost/lib/python2.7/site-packages/xgboost/training.pyc\u001b[0m in \u001b[0;36mtrain\u001b[0;34m(params, dtrain, num_boost_round, evals, obj, feval, maximize, early_stopping_rounds, evals_result, verbose_eval, learning_rates, xgb_model, callbacks)\u001b[0m\n\u001b[1;32m    203\u001b[0m                            \u001b[0mevals\u001b[0m\u001b[0;34m=\u001b[0m\u001b[0mevals\u001b[0m\u001b[0;34m,\u001b[0m\u001b[0;34m\u001b[0m\u001b[0m\n\u001b[1;32m    204\u001b[0m                            \u001b[0mobj\u001b[0m\u001b[0;34m=\u001b[0m\u001b[0mobj\u001b[0m\u001b[0;34m,\u001b[0m \u001b[0mfeval\u001b[0m\u001b[0;34m=\u001b[0m\u001b[0mfeval\u001b[0m\u001b[0;34m,\u001b[0m\u001b[0;34m\u001b[0m\u001b[0m\n\u001b[0;32m--> 205\u001b[0;31m                            xgb_model=xgb_model, callbacks=callbacks)\n\u001b[0m\u001b[1;32m    206\u001b[0m \u001b[0;34m\u001b[0m\u001b[0m\n\u001b[1;32m    207\u001b[0m \u001b[0;34m\u001b[0m\u001b[0m\n",
      "\u001b[0;32m/home/jianqi/anaconda2/envs/xgboost/lib/python2.7/site-packages/xgboost/training.pyc\u001b[0m in \u001b[0;36m_train_internal\u001b[0;34m(params, dtrain, num_boost_round, evals, obj, feval, xgb_model, callbacks)\u001b[0m\n\u001b[1;32m     74\u001b[0m         \u001b[0;31m# Skip the first update if it is a recovery step.\u001b[0m\u001b[0;34m\u001b[0m\u001b[0;34m\u001b[0m\u001b[0m\n\u001b[1;32m     75\u001b[0m         \u001b[0;32mif\u001b[0m \u001b[0mversion\u001b[0m \u001b[0;34m%\u001b[0m \u001b[0;36m2\u001b[0m \u001b[0;34m==\u001b[0m \u001b[0;36m0\u001b[0m\u001b[0;34m:\u001b[0m\u001b[0;34m\u001b[0m\u001b[0m\n\u001b[0;32m---> 76\u001b[0;31m             \u001b[0mbst\u001b[0m\u001b[0;34m.\u001b[0m\u001b[0mupdate\u001b[0m\u001b[0;34m(\u001b[0m\u001b[0mdtrain\u001b[0m\u001b[0;34m,\u001b[0m \u001b[0mi\u001b[0m\u001b[0;34m,\u001b[0m \u001b[0mobj\u001b[0m\u001b[0;34m)\u001b[0m\u001b[0;34m\u001b[0m\u001b[0m\n\u001b[0m\u001b[1;32m     77\u001b[0m             \u001b[0mbst\u001b[0m\u001b[0;34m.\u001b[0m\u001b[0msave_rabit_checkpoint\u001b[0m\u001b[0;34m(\u001b[0m\u001b[0;34m)\u001b[0m\u001b[0;34m\u001b[0m\u001b[0m\n\u001b[1;32m     78\u001b[0m             \u001b[0mversion\u001b[0m \u001b[0;34m+=\u001b[0m \u001b[0;36m1\u001b[0m\u001b[0;34m\u001b[0m\u001b[0m\n",
      "\u001b[0;32m/home/jianqi/anaconda2/envs/xgboost/lib/python2.7/site-packages/xgboost/core.pyc\u001b[0m in \u001b[0;36mupdate\u001b[0;34m(self, dtrain, iteration, fobj)\u001b[0m\n\u001b[1;32m    804\u001b[0m \u001b[0;34m\u001b[0m\u001b[0m\n\u001b[1;32m    805\u001b[0m         \u001b[0;32mif\u001b[0m \u001b[0mfobj\u001b[0m \u001b[0;32mis\u001b[0m \u001b[0mNone\u001b[0m\u001b[0;34m:\u001b[0m\u001b[0;34m\u001b[0m\u001b[0m\n\u001b[0;32m--> 806\u001b[0;31m             \u001b[0m_check_call\u001b[0m\u001b[0;34m(\u001b[0m\u001b[0m_LIB\u001b[0m\u001b[0;34m.\u001b[0m\u001b[0mXGBoosterUpdateOneIter\u001b[0m\u001b[0;34m(\u001b[0m\u001b[0mself\u001b[0m\u001b[0;34m.\u001b[0m\u001b[0mhandle\u001b[0m\u001b[0;34m,\u001b[0m \u001b[0miteration\u001b[0m\u001b[0;34m,\u001b[0m \u001b[0mdtrain\u001b[0m\u001b[0;34m.\u001b[0m\u001b[0mhandle\u001b[0m\u001b[0;34m)\u001b[0m\u001b[0;34m)\u001b[0m\u001b[0;34m\u001b[0m\u001b[0m\n\u001b[0m\u001b[1;32m    807\u001b[0m         \u001b[0;32melse\u001b[0m\u001b[0;34m:\u001b[0m\u001b[0;34m\u001b[0m\u001b[0m\n\u001b[1;32m    808\u001b[0m             \u001b[0mpred\u001b[0m \u001b[0;34m=\u001b[0m \u001b[0mself\u001b[0m\u001b[0;34m.\u001b[0m\u001b[0mpredict\u001b[0m\u001b[0;34m(\u001b[0m\u001b[0mdtrain\u001b[0m\u001b[0;34m)\u001b[0m\u001b[0;34m\u001b[0m\u001b[0m\n",
      "\u001b[0;31mKeyboardInterrupt\u001b[0m: "
     ]
    }
   ],
   "source": [
    "cv_scores = [] \n",
    "print fea_categorical\n",
    "print fea_additional\n",
    "print feature_params\n",
    "kf = model_selection.StratifiedKFold(n_splits=5, shuffle=True, random_state=2016)\n",
    "for dev_index, val_index in kf.split(train_X,train_y):\n",
    "    dev_X, val_X = train_X[dev_index,:], train_X[val_index,:]\n",
    "    dev_y, val_y = train_y[dev_index], train_y[val_index]\n",
    "    preds, model = runXGB_sklearn(dev_X, dev_y, val_X, val_y,verbose=False)\n",
    "    #import pdb;pdb.set_trace()\n",
    "    print('best iterations:{}, best_score={}, last_score={}'.format(model.best_iteration,\n",
    "                                                                   model.best_score,log_loss(val_y, preds)))\n",
    "    importance_inx = np.argsort(model.feature_importances_*-1)\n",
    "    print('Most important 40 features:')\n",
    "    ff = [(fealist[x],model.feature_importances_[x]) for x in importance_inx[:40]]\n",
    "    print(ff)\n",
    "    print('-------------------------')\n",
    "          \n",
    "    #import pdb;pdb.set_trace()\n",
    "    cv_scores.append(log_loss(val_y, preds))\n",
    "    #print(cv_scores)\n",
    "    #break\n",
    "print 'mean score={}'.format(np.mean(cv_scores))"
   ]
  },
  {
   "cell_type": "code",
   "execution_count": 111,
   "metadata": {
    "collapsed": false
   },
   "outputs": [
    {
     "name": "stdout",
     "output_type": "stream",
     "text": [
      "['building_id', 'manager_id', 'display_address', 'building_id_medium', 'building_id_high', 'manager_id_medium', 'manager_id_high']\n",
      "['weekdays', 'manager_count', 'building_count', 'num_features', 'num_description_words', 'days', 'num_photos', 'created_month', 'created_day', 'created_hour']\n",
      "best iterations:3333, best_score=0.52764, last_score=0.527691281573\n",
      "Most important 40 features:\n",
      "[('price', 0.057805404), ('manager_id_medium', 0.051225908), ('manager_id_high', 0.049443644), ('listing_id', 0.048090525), ('latitude', 0.045347061), ('building_id_medium', 0.044876315), ('longitude', 0.043825347), ('building_id_high', 0.041964259), ('num_description_words', 0.041846026), ('manager_id', 0.03915073), ('days', 0.038719397), ('display_address', 0.036470763), ('address_num', 0.035605904), ('manager_count', 0.035509568), ('building_id', 0.033547759), ('building_count', 0.026727419), ('created_day', 0.026427455), ('price_quantile_lat_long', 0.026175661), ('created_hour', 0.024353983), ('num_photos', 0.023020569), ('num_features', 0.020228935), ('price_quantile', 0.019276496), ('len_feature0', 0.018442292), ('bedrooms', 0.017710993), ('street_num', 0.017167993), ('weekdays', 0.014890896), ('bathrooms', 0.0095353406), ('lat_grid', 0.0092003448), ('no fee', 0.0085588172), ('ave_num', 0.0076085674), ('long_grid', 0.0075187972), ('furnished', 0.0042126281), ('laundry in building', 0.0040987735), ('west_east', 0.0036192695), ('hardwood floors', 0.0034046969), ('laundry in unit', 0.0031923139), ('dogs allowed', 0.003141955), ('created_month', 0.0029405197), ('dishwasher', 0.0029120559), ('cats allowed', 0.0027390842)]\n",
      "-------------------------\n",
      "best iterations:3207, best_score=0.518521, last_score=0.518548696838\n",
      "Most important 40 features:\n",
      "[('price', 0.057993039), ('manager_id_medium', 0.050171759), ('manager_id_high', 0.049814302), ('listing_id', 0.048791401), ('latitude', 0.046280228), ('longitude', 0.044333335), ('building_id_medium', 0.043865722), ('building_id_high', 0.042314507), ('num_description_words', 0.041783944), ('days', 0.038645539), ('manager_id', 0.038265605), ('display_address', 0.036804311), ('manager_count', 0.035286818), ('address_num', 0.035068747), ('building_id', 0.032870065), ('building_count', 0.027076608), ('price_quantile_lat_long', 0.026597753), ('created_day', 0.026231308), ('created_hour', 0.024028128), ('num_photos', 0.023663931), ('num_features', 0.020534517), ('price_quantile', 0.018873142), ('len_feature0', 0.018549409), ('bedrooms', 0.017926674), ('street_num', 0.017337661), ('weekdays', 0.01500634), ('bathrooms', 0.0096355313), ('lat_grid', 0.00939498), ('no fee', 0.0084192874), ('ave_num', 0.0080326069), ('long_grid', 0.007358165), ('laundry in building', 0.0040916163), ('furnished', 0.0040691346), ('west_east', 0.0037543951), ('laundry in unit', 0.0034171741), ('hardwood floors', 0.0033789556), ('pre-war', 0.0032867817), ('dogs allowed', 0.0032395709), ('created_month', 0.0028618833), ('dishwasher', 0.0028304092)]\n",
      "-------------------------\n",
      "best iterations:3529, best_score=0.522215, last_score=0.522219046073\n",
      "Most important 40 features:\n",
      "[('price', 0.056809377), ('manager_id_medium', 0.050821442), ('listing_id', 0.048552845), ('manager_id_high', 0.048386402), ('latitude', 0.045869164), ('building_id_medium', 0.044851996), ('longitude', 0.044258136), ('num_description_words', 0.042040914), ('building_id_high', 0.041952554), ('days', 0.039174348), ('manager_id', 0.038940091), ('display_address', 0.037033156), ('address_num', 0.036225587), ('manager_count', 0.034400847), ('building_id', 0.034300156), ('building_count', 0.027777949), ('created_day', 0.027494375), ('price_quantile_lat_long', 0.025799094), ('created_hour', 0.023653792), ('num_photos', 0.02289965), ('num_features', 0.020090621), ('len_feature0', 0.019280996), ('price_quantile', 0.018713847), ('bedrooms', 0.017877508), ('street_num', 0.017561056), ('weekdays', 0.015138345), ('lat_grid', 0.009333292), ('bathrooms', 0.0091236942), ('ave_num', 0.0085236672), ('no fee', 0.0080120005), ('long_grid', 0.0072064851), ('furnished', 0.0039720945), ('laundry in building', 0.0038303076), ('west_east', 0.0037008496), ('laundry in unit', 0.0033946717), ('hardwood floors', 0.0032960372), ('dogs allowed', 0.0031706891), ('pre-war', 0.0028953343), ('created_month', 0.0028583463), ('cats allowed', 0.002848072)]\n",
      "-------------------------\n",
      "best iterations:3364, best_score=0.525159, last_score=0.525184520279\n",
      "Most important 40 features:\n",
      "[('price', 0.056962229), ('manager_id_medium', 0.051253654), ('manager_id_high', 0.049892612), ('listing_id', 0.04932262), ('latitude', 0.045603596), ('building_id_medium', 0.044398595), ('longitude', 0.042751472), ('building_id_high', 0.042237833), ('num_description_words', 0.041836888), ('manager_id', 0.03900427), ('days', 0.038503632), ('display_address', 0.03614565), ('address_num', 0.035651512), ('manager_count', 0.035462961), ('building_id', 0.033815838), ('created_day', 0.026893593), ('building_count', 0.026709376), ('price_quantile_lat_long', 0.026080869), ('created_hour', 0.024082651), ('num_photos', 0.02335445), ('num_features', 0.020370126), ('price_quantile', 0.018959235), ('len_feature0', 0.018569129), ('bedrooms', 0.017806251), ('street_num', 0.017208086), ('weekdays', 0.014856603), ('lat_grid', 0.0096226577), ('bathrooms', 0.0092325499), ('no fee', 0.008411156), ('ave_num', 0.0083006257), ('long_grid', 0.0073188543), ('furnished', 0.0040462841), ('west_east', 0.003628002), ('laundry in unit', 0.0035976602), ('laundry in building', 0.0035911584), ('dogs allowed', 0.0033159158), ('hardwood floors', 0.0031620399), ('created_month', 0.0029821568), ('pre-war', 0.0029604842), ('cats allowed', 0.0029388117)]\n",
      "-------------------------\n",
      "best iterations:3104, best_score=0.528418, last_score=0.52847878788\n",
      "Most important 40 features:\n",
      "[('price', 0.057713609), ('manager_id_medium', 0.052152414), ('listing_id', 0.049353279), ('manager_id_high', 0.048818015), ('longitude', 0.046153277), ('latitude', 0.045432638), ('building_id_medium', 0.045015547), ('building_id_high', 0.042371664), ('num_description_words', 0.040059134), ('manager_id', 0.038103446), ('days', 0.037563547), ('display_address', 0.037032917), ('manager_count', 0.035533711), ('address_num', 0.034743559), ('building_id', 0.033401921), ('building_count', 0.02658019), ('price_quantile_lat_long', 0.026455063), ('created_day', 0.026072731), ('created_hour', 0.025361361), ('num_photos', 0.022974683), ('num_features', 0.020296041), ('price_quantile', 0.019149045), ('len_feature0', 0.018502556), ('bedrooms', 0.018062295), ('street_num', 0.01765679), ('weekdays', 0.014378004), ('lat_grid', 0.0098502645), ('bathrooms', 0.0097737983), ('no fee', 0.0088955928), ('ave_num', 0.0077578658), ('long_grid', 0.007227235), ('laundry in building', 0.0041036978), ('furnished', 0.0040967464), ('west_east', 0.0039994256), ('laundry in unit', 0.003401597), ('hardwood floors', 0.0032950074), ('dogs allowed', 0.0030285337), ('pre-war', 0.002894138), ('created_month', 0.0028501118), ('dishwasher', 0.0027945)]\n",
      "-------------------------\n",
      "mean score=0.524424466529\n"
     ]
    }
   ],
   "source": [
    "cv_scores = [] \n",
    "print fea_categorical\n",
    "print fea_additional\n",
    "print feature_params\n",
    "kf = model_selection.StratifiedKFold(n_splits=5, shuffle=True, random_state=2016)\n",
    "for dev_index, val_index in kf.split(train_X,train_y):\n",
    "    dev_X, val_X = train_X[dev_index,:], train_X[val_index,:]\n",
    "    dev_y, val_y = train_y[dev_index], train_y[val_index]\n",
    "    preds, model = runXGB_sklearn(dev_X, dev_y, val_X, val_y,verbose=False)\n",
    "    #import pdb;pdb.set_trace()\n",
    "    print('best iterations:{}, best_score={}, last_score={}'.format(model.best_iteration,\n",
    "                                                                   model.best_score,log_loss(val_y, preds)))\n",
    "    importance_inx = np.argsort(model.feature_importances_*-1)\n",
    "    print('Most important 40 features:')\n",
    "    ff = [(fealist[x],model.feature_importances_[x]) for x in importance_inx[:40]]\n",
    "    print(ff)\n",
    "    print('-------------------------')\n",
    "          \n",
    "    #import pdb;pdb.set_trace()\n",
    "    cv_scores.append(log_loss(val_y, preds))\n",
    "    #print(cv_scores)\n",
    "    #break\n",
    "print 'mean score={}'.format(np.mean(cv_scores))"
   ]
  },
  {
   "cell_type": "code",
   "execution_count": null,
   "metadata": {
    "collapsed": true
   },
   "outputs": [],
   "source": []
  },
  {
   "cell_type": "code",
   "execution_count": null,
   "metadata": {
    "collapsed": true
   },
   "outputs": [],
   "source": []
  },
  {
   "cell_type": "code",
   "execution_count": 112,
   "metadata": {
    "collapsed": false
   },
   "outputs": [
    {
     "ename": "KeyboardInterrupt",
     "evalue": "",
     "output_type": "error",
     "traceback": [
      "\u001b[0;31m---------------------------------------------------------------------------\u001b[0m",
      "\u001b[0;31mKeyboardInterrupt\u001b[0m                         Traceback (most recent call last)",
      "\u001b[0;32m<ipython-input-112-2132a394e2df>\u001b[0m in \u001b[0;36m<module>\u001b[0;34m()\u001b[0m\n\u001b[1;32m      4\u001b[0m     \u001b[0mdev_X\u001b[0m\u001b[0;34m,\u001b[0m \u001b[0mval_X\u001b[0m \u001b[0;34m=\u001b[0m \u001b[0mtrain_X\u001b[0m\u001b[0;34m[\u001b[0m\u001b[0mdev_index\u001b[0m\u001b[0;34m,\u001b[0m\u001b[0;34m:\u001b[0m\u001b[0;34m]\u001b[0m\u001b[0;34m,\u001b[0m \u001b[0mtrain_X\u001b[0m\u001b[0;34m[\u001b[0m\u001b[0mval_index\u001b[0m\u001b[0;34m,\u001b[0m\u001b[0;34m:\u001b[0m\u001b[0;34m]\u001b[0m\u001b[0;34m\u001b[0m\u001b[0m\n\u001b[1;32m      5\u001b[0m     \u001b[0mdev_y\u001b[0m\u001b[0;34m,\u001b[0m \u001b[0mval_y\u001b[0m \u001b[0;34m=\u001b[0m \u001b[0mtrain_y\u001b[0m\u001b[0;34m[\u001b[0m\u001b[0mdev_index\u001b[0m\u001b[0;34m]\u001b[0m\u001b[0;34m,\u001b[0m \u001b[0mtrain_y\u001b[0m\u001b[0;34m[\u001b[0m\u001b[0mval_index\u001b[0m\u001b[0;34m]\u001b[0m\u001b[0;34m\u001b[0m\u001b[0m\n\u001b[0;32m----> 6\u001b[0;31m     \u001b[0mpreds\u001b[0m\u001b[0;34m,\u001b[0m \u001b[0mmodel\u001b[0m \u001b[0;34m=\u001b[0m \u001b[0mrunXGB_sklearn\u001b[0m\u001b[0;34m(\u001b[0m\u001b[0mdev_X\u001b[0m\u001b[0;34m,\u001b[0m \u001b[0mdev_y\u001b[0m\u001b[0;34m,\u001b[0m \u001b[0mval_X\u001b[0m\u001b[0;34m,\u001b[0m \u001b[0mval_y\u001b[0m\u001b[0;34m,\u001b[0m\u001b[0mverbose\u001b[0m\u001b[0;34m=\u001b[0m\u001b[0mFalse\u001b[0m\u001b[0;34m)\u001b[0m\u001b[0;34m\u001b[0m\u001b[0m\n\u001b[0m\u001b[1;32m      7\u001b[0m     \u001b[0;31m#import pdb;pdb.set_trace()\u001b[0m\u001b[0;34m\u001b[0m\u001b[0;34m\u001b[0m\u001b[0m\n\u001b[1;32m      8\u001b[0m     print('best iterations:{}, best_score={}, last_score={}'.format(model.best_iteration,\n",
      "\u001b[0;32m<ipython-input-66-cf98af98fb49>\u001b[0m in \u001b[0;36mrunXGB_sklearn\u001b[0;34m(train_X, train_y, test_X, test_y, feature_names, seed_val, num_rounds, verbose)\u001b[0m\n\u001b[1;32m     19\u001b[0m     \u001b[0;32mif\u001b[0m \u001b[0mtest_y\u001b[0m \u001b[0;32mis\u001b[0m \u001b[0;32mnot\u001b[0m \u001b[0mNone\u001b[0m\u001b[0;34m:\u001b[0m\u001b[0;34m\u001b[0m\u001b[0m\n\u001b[1;32m     20\u001b[0m         clf.fit(train_X, train_y,eval_set=[(train_X, train_y), (test_X, test_y)],verbose=verbose,eval_metric='mlogloss',\n\u001b[0;32m---> 21\u001b[0;31m             early_stopping_rounds=50)\n\u001b[0m\u001b[1;32m     22\u001b[0m     \u001b[0;32melse\u001b[0m\u001b[0;34m:\u001b[0m\u001b[0;34m\u001b[0m\u001b[0m\n\u001b[1;32m     23\u001b[0m         \u001b[0mclf\u001b[0m\u001b[0;34m.\u001b[0m\u001b[0mfit\u001b[0m\u001b[0;34m(\u001b[0m\u001b[0mtrain_X\u001b[0m\u001b[0;34m,\u001b[0m \u001b[0mtrain_y\u001b[0m\u001b[0;34m,\u001b[0m\u001b[0mverbose\u001b[0m\u001b[0;34m=\u001b[0m\u001b[0mFalse\u001b[0m\u001b[0;34m)\u001b[0m\u001b[0;34m\u001b[0m\u001b[0m\n",
      "\u001b[0;32m/home/jianqi/anaconda2/envs/xgboost/lib/python2.7/site-packages/xgboost/sklearn.pyc\u001b[0m in \u001b[0;36mfit\u001b[0;34m(self, X, y, sample_weight, eval_set, eval_metric, early_stopping_rounds, verbose)\u001b[0m\n\u001b[1;32m    443\u001b[0m                               \u001b[0mearly_stopping_rounds\u001b[0m\u001b[0;34m=\u001b[0m\u001b[0mearly_stopping_rounds\u001b[0m\u001b[0;34m,\u001b[0m\u001b[0;34m\u001b[0m\u001b[0m\n\u001b[1;32m    444\u001b[0m                               \u001b[0mevals_result\u001b[0m\u001b[0;34m=\u001b[0m\u001b[0mevals_result\u001b[0m\u001b[0;34m,\u001b[0m \u001b[0mobj\u001b[0m\u001b[0;34m=\u001b[0m\u001b[0mobj\u001b[0m\u001b[0;34m,\u001b[0m \u001b[0mfeval\u001b[0m\u001b[0;34m=\u001b[0m\u001b[0mfeval\u001b[0m\u001b[0;34m,\u001b[0m\u001b[0;34m\u001b[0m\u001b[0m\n\u001b[0;32m--> 445\u001b[0;31m                               verbose_eval=verbose)\n\u001b[0m\u001b[1;32m    446\u001b[0m \u001b[0;34m\u001b[0m\u001b[0m\n\u001b[1;32m    447\u001b[0m         \u001b[0mself\u001b[0m\u001b[0;34m.\u001b[0m\u001b[0mobjective\u001b[0m \u001b[0;34m=\u001b[0m \u001b[0mxgb_options\u001b[0m\u001b[0;34m[\u001b[0m\u001b[0;34m\"objective\"\u001b[0m\u001b[0;34m]\u001b[0m\u001b[0;34m\u001b[0m\u001b[0m\n",
      "\u001b[0;32m/home/jianqi/anaconda2/envs/xgboost/lib/python2.7/site-packages/xgboost/training.pyc\u001b[0m in \u001b[0;36mtrain\u001b[0;34m(params, dtrain, num_boost_round, evals, obj, feval, maximize, early_stopping_rounds, evals_result, verbose_eval, learning_rates, xgb_model, callbacks)\u001b[0m\n\u001b[1;32m    203\u001b[0m                            \u001b[0mevals\u001b[0m\u001b[0;34m=\u001b[0m\u001b[0mevals\u001b[0m\u001b[0;34m,\u001b[0m\u001b[0;34m\u001b[0m\u001b[0m\n\u001b[1;32m    204\u001b[0m                            \u001b[0mobj\u001b[0m\u001b[0;34m=\u001b[0m\u001b[0mobj\u001b[0m\u001b[0;34m,\u001b[0m \u001b[0mfeval\u001b[0m\u001b[0;34m=\u001b[0m\u001b[0mfeval\u001b[0m\u001b[0;34m,\u001b[0m\u001b[0;34m\u001b[0m\u001b[0m\n\u001b[0;32m--> 205\u001b[0;31m                            xgb_model=xgb_model, callbacks=callbacks)\n\u001b[0m\u001b[1;32m    206\u001b[0m \u001b[0;34m\u001b[0m\u001b[0m\n\u001b[1;32m    207\u001b[0m \u001b[0;34m\u001b[0m\u001b[0m\n",
      "\u001b[0;32m/home/jianqi/anaconda2/envs/xgboost/lib/python2.7/site-packages/xgboost/training.pyc\u001b[0m in \u001b[0;36m_train_internal\u001b[0;34m(params, dtrain, num_boost_round, evals, obj, feval, xgb_model, callbacks)\u001b[0m\n\u001b[1;32m     74\u001b[0m         \u001b[0;31m# Skip the first update if it is a recovery step.\u001b[0m\u001b[0;34m\u001b[0m\u001b[0;34m\u001b[0m\u001b[0m\n\u001b[1;32m     75\u001b[0m         \u001b[0;32mif\u001b[0m \u001b[0mversion\u001b[0m \u001b[0;34m%\u001b[0m \u001b[0;36m2\u001b[0m \u001b[0;34m==\u001b[0m \u001b[0;36m0\u001b[0m\u001b[0;34m:\u001b[0m\u001b[0;34m\u001b[0m\u001b[0m\n\u001b[0;32m---> 76\u001b[0;31m             \u001b[0mbst\u001b[0m\u001b[0;34m.\u001b[0m\u001b[0mupdate\u001b[0m\u001b[0;34m(\u001b[0m\u001b[0mdtrain\u001b[0m\u001b[0;34m,\u001b[0m \u001b[0mi\u001b[0m\u001b[0;34m,\u001b[0m \u001b[0mobj\u001b[0m\u001b[0;34m)\u001b[0m\u001b[0;34m\u001b[0m\u001b[0m\n\u001b[0m\u001b[1;32m     77\u001b[0m             \u001b[0mbst\u001b[0m\u001b[0;34m.\u001b[0m\u001b[0msave_rabit_checkpoint\u001b[0m\u001b[0;34m(\u001b[0m\u001b[0;34m)\u001b[0m\u001b[0;34m\u001b[0m\u001b[0m\n\u001b[1;32m     78\u001b[0m             \u001b[0mversion\u001b[0m \u001b[0;34m+=\u001b[0m \u001b[0;36m1\u001b[0m\u001b[0;34m\u001b[0m\u001b[0m\n",
      "\u001b[0;32m/home/jianqi/anaconda2/envs/xgboost/lib/python2.7/site-packages/xgboost/core.pyc\u001b[0m in \u001b[0;36mupdate\u001b[0;34m(self, dtrain, iteration, fobj)\u001b[0m\n\u001b[1;32m    804\u001b[0m \u001b[0;34m\u001b[0m\u001b[0m\n\u001b[1;32m    805\u001b[0m         \u001b[0;32mif\u001b[0m \u001b[0mfobj\u001b[0m \u001b[0;32mis\u001b[0m \u001b[0mNone\u001b[0m\u001b[0;34m:\u001b[0m\u001b[0;34m\u001b[0m\u001b[0m\n\u001b[0;32m--> 806\u001b[0;31m             \u001b[0m_check_call\u001b[0m\u001b[0;34m(\u001b[0m\u001b[0m_LIB\u001b[0m\u001b[0;34m.\u001b[0m\u001b[0mXGBoosterUpdateOneIter\u001b[0m\u001b[0;34m(\u001b[0m\u001b[0mself\u001b[0m\u001b[0;34m.\u001b[0m\u001b[0mhandle\u001b[0m\u001b[0;34m,\u001b[0m \u001b[0miteration\u001b[0m\u001b[0;34m,\u001b[0m \u001b[0mdtrain\u001b[0m\u001b[0;34m.\u001b[0m\u001b[0mhandle\u001b[0m\u001b[0;34m)\u001b[0m\u001b[0;34m)\u001b[0m\u001b[0;34m\u001b[0m\u001b[0m\n\u001b[0m\u001b[1;32m    807\u001b[0m         \u001b[0;32melse\u001b[0m\u001b[0;34m:\u001b[0m\u001b[0;34m\u001b[0m\u001b[0m\n\u001b[1;32m    808\u001b[0m             \u001b[0mpred\u001b[0m \u001b[0;34m=\u001b[0m \u001b[0mself\u001b[0m\u001b[0;34m.\u001b[0m\u001b[0mpredict\u001b[0m\u001b[0;34m(\u001b[0m\u001b[0mdtrain\u001b[0m\u001b[0;34m)\u001b[0m\u001b[0;34m\u001b[0m\u001b[0m\n",
      "\u001b[0;31mKeyboardInterrupt\u001b[0m: "
     ]
    }
   ],
   "source": [
    "cv_scores = [] \n",
    "kf = model_selection.StratifiedKFold(n_splits=5, shuffle=True, random_state=2016)\n",
    "for dev_index, val_index in kf.split(train_X,train_y):\n",
    "    dev_X, val_X = train_X[dev_index,:], train_X[val_index,:]\n",
    "    dev_y, val_y = train_y[dev_index], train_y[val_index]\n",
    "    preds, model = runXGB_sklearn(dev_X, dev_y, val_X, val_y,verbose=False)\n",
    "    #import pdb;pdb.set_trace()\n",
    "    print('best iterations:{}, best_score={}, last_score={}'.format(model.best_iteration,\n",
    "                                                                   model.best_score,log_loss(val_y, preds)))\n",
    "    importance_inx = np.argsort(model.feature_importances_*-1)\n",
    "    print('Most important 40 features:')\n",
    "    ff = [(fealist[x],model.feature_importances_[x]) for x in importance_inx[:40]]\n",
    "    print(ff)\n",
    "    print('-------------------------')\n",
    "          \n",
    "    #import pdb;pdb.set_trace()\n",
    "    cv_scores.append(log_loss(val_y, preds))\n",
    "    #print(cv_scores)\n",
    "    #break\n",
    "print 'mean score={}'.format(np.mean(cv_scores))"
   ]
  },
  {
   "cell_type": "code",
   "execution_count": null,
   "metadata": {
    "collapsed": true
   },
   "outputs": [],
   "source": []
  },
  {
   "cell_type": "code",
   "execution_count": null,
   "metadata": {
    "collapsed": true
   },
   "outputs": [],
   "source": []
  },
  {
   "cell_type": "code",
   "execution_count": null,
   "metadata": {
    "collapsed": true
   },
   "outputs": [],
   "source": []
  },
  {
   "cell_type": "code",
   "execution_count": 122,
   "metadata": {
    "collapsed": false
   },
   "outputs": [],
   "source": [
    "preds, model = runXGB_sklearn(train_X, train_y, test_X,num_rounds=4000)\n",
    "out_df = pd.DataFrame(preds)\n",
    "out_df.columns = [\"low\", \"medium\", \"high\"]\n",
    "out_df[\"listing_id\"] = test_df.listing_id.values\n"
   ]
  },
  {
   "cell_type": "code",
   "execution_count": 123,
   "metadata": {
    "collapsed": true
   },
   "outputs": [],
   "source": [
    "import time\n",
    "filename = time.asctime() +'_res.csv'\n",
    "out_df.to_csv(filename, index=False)"
   ]
  },
  {
   "cell_type": "code",
   "execution_count": null,
   "metadata": {
    "collapsed": true
   },
   "outputs": [],
   "source": []
  }
 ],
 "metadata": {
  "kernelspec": {
   "display_name": "Python 2",
   "language": "python",
   "name": "python2"
  },
  "language_info": {
   "codemirror_mode": {
    "name": "ipython",
    "version": 2
   },
   "file_extension": ".py",
   "mimetype": "text/x-python",
   "name": "python",
   "nbconvert_exporter": "python",
   "pygments_lexer": "ipython2",
   "version": "2.7.13"
  }
 },
 "nbformat": 4,
 "nbformat_minor": 2
}
