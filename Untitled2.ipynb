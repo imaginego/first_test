{
 "cells": [
  {
   "cell_type": "code",
   "execution_count": 1,
   "metadata": {
    "collapsed": true
   },
   "outputs": [],
   "source": [
    "from sklearn.model_selection import GridSearchCV,StratifiedKFold"
   ]
  },
  {
   "cell_type": "code",
   "execution_count": null,
   "metadata": {
    "collapsed": true
   },
   "outputs": [],
   "source": [
    "from sklearn.ensemble import RandomForestClassifier"
   ]
  },
  {
   "cell_type": "code",
   "execution_count": null,
   "metadata": {
    "collapsed": true
   },
   "outputs": [],
   "source": [
    "def xgb_train_cv(train_df,test_df,fealist,target_col='interest_level',cv_fold=5,verbose=True):\n",
    "    train_X = train_df[fealist].as_matrix()\n",
    "    test_X = test_df[fealist].as_matrix()\n",
    "    train_y = np.array(train_df[target_col])\n",
    "    \n",
    "    kf = model_selection.StratifiedKFold(n_splits=cv_fold, shuffle=True, random_state=2016)\n",
    "    best_iteration = 0\n",
    "    print('Cross_validating to find the best iteration number')\n",
    "    for dev_index, val_index in kf.split(X_tr,y_tr):\n",
    "        dev_X, val_X = X_tr[dev_index,:], X_tr[val_index,:]\n",
    "        dev_y, val_y = y_tr[dev_index], y_tr[val_index]\n",
    "        preds, model = runXGB_sklearn(dev_X, dev_y, val_X, val_y,verbose=False)\n",
    "        \n",
    "        if verbose:\n",
    "            print('best iterations:{}, best_score={}, last_score={}'.format(model.best_iteration,\n",
    "                                                                   model.best_score,log_loss(val_y, preds)))\n",
    "            importance_inx = np.argsort(model.feature_importances_*-1)\n",
    "            print('Most important 20 features:')\n",
    "            ff = [(fealist[x],model.feature_importances_[x]) for x in importance_inx[:20]]\n",
    "            print(ff)\n",
    "            print('-------------------------')\n",
    "        tmp = model.best_iteration\n",
    "        best_iteration = tmp if tmp>best_iteration else best_iteration\n",
    "        cv_scores.append(log_loss(val_y, preds))    \n",
    "    print 'mean score={}'.format(np.mean(cv_scores))\n",
    "    \n",
    "    preds, model = runXGB_sklearn(X_tr, y_tr, X_te,num_rounds=int(best_iteration*1.02))\n",
    "    return pred\n",
    "\n",
    "def xgb_train_cv_np(X_tr,y_tr,X_te,cv_fold=5,verbose=True):\n",
    "    \n",
    "    kf = model_selection.StratifiedKFold(n_splits=cv_fold, shuffle=True, random_state=2016)\n",
    "    best_iteration = 0\n",
    "    print('Cross_validating to find the best iteration number')\n",
    "    for dev_index, val_index in kf.split(X_tr,y_tr):\n",
    "        dev_X, val_X = X_tr[dev_index,:], X_tr[val_index,:]\n",
    "        dev_y, val_y = y_tr[dev_index], y_tr[val_index]\n",
    "        preds, model = runXGB_sklearn(dev_X, dev_y, val_X, val_y,verbose=False)\n",
    "        \n",
    "        if verbose:\n",
    "            print('best iterations:{}, best_score={}, last_score={}'.format(model.best_iteration,\n",
    "                                                                   model.best_score,log_loss(val_y, preds)))            \n",
    "            print('-------------------------')\n",
    "        tmp = model.best_iteration\n",
    "        best_iteration = tmp if tmp>best_iteration else best_iteration\n",
    "        cv_scores.append(log_loss(val_y, preds))    \n",
    "    print 'mean score={}'.format(np.mean(cv_scores))\n",
    "    \n",
    "    preds, model = runXGB_sklearn(X_tr, y_tr, X_te,num_rounds=int(best_iteration*1.02))\n",
    "    return pred"
   ]
  },
  {
   "cell_type": "code",
   "execution_count": null,
   "metadata": {
    "collapsed": true
   },
   "outputs": [],
   "source": [
    "def stacking(X_train,y_train,X_test,nClass,nFold=5):\n",
    "    pred = np.zeros((X_test.shape[0],nClass))\n",
    "    kfold = StratifiedKFold(nFold,shuffle=True, random_state=2456)\n",
    "    for tr_inx,cv_inx in kfold.split(X_train,y_train):\n",
    "        rf = RandomForestClassifier(10)\n",
    "        rf.fit(X_train[cv_inx,:],y_train[cv_inx])\n",
    "        tr_pred = rf.predict_proba(X_train[tr_inx,:])\n",
    "        te_pred = ref.predict_proba(X_test)\n",
    "        X_train_ex = np.hstack((X_train[tr_inx,:],tr_pred))\n",
    "        X_test_ex = np.hstack((X_test,te_pred))\n",
    "        pred += xgb_train_cv(X_train_ex,y[tr_inx],X_test_ex)\n",
    "    pred = pred/nFold\n",
    "    return pred\n",
    "\n",
    "        "
   ]
  },
  {
   "cell_type": "code",
   "execution_count": null,
   "metadata": {
    "collapsed": true
   },
   "outputs": [],
   "source": [
    "def write_output(preds,test_df):\n",
    "    out_df = pd.DataFrame(preds)\n",
    "    out_df.columns = [\"low\", \"medium\", \"high\"]\n",
    "    out_df[\"listing_id\"] = test_df.listing_id.values\n",
    "    \n",
    "    import time\n",
    "    filename = time.strftime(\"%Y.%m.%d.\") + str(np.random.randint(0,100000))+'.res.csv'\n",
    "    out_df.to_csv(filename, index=False)"
   ]
  },
  {
   "cell_type": "code",
   "execution_count": null,
   "metadata": {
    "collapsed": true
   },
   "outputs": [],
   "source": []
  },
  {
   "cell_type": "code",
   "execution_count": 15,
   "metadata": {
    "collapsed": false
   },
   "outputs": [
    {
     "data": {
      "text/plain": [
       "'2017.03.22.'"
      ]
     },
     "execution_count": 15,
     "metadata": {},
     "output_type": "execute_result"
    }
   ],
   "source": [
    "import time\n",
    "time.strftime(\"%Y.%m.%d.\")"
   ]
  },
  {
   "cell_type": "code",
   "execution_count": 11,
   "metadata": {
    "collapsed": true
   },
   "outputs": [],
   "source": [
    "from numpy import random"
   ]
  },
  {
   "cell_type": "code",
   "execution_count": 14,
   "metadata": {
    "collapsed": false
   },
   "outputs": [
    {
     "data": {
      "text/plain": [
       "62435"
      ]
     },
     "execution_count": 14,
     "metadata": {},
     "output_type": "execute_result"
    }
   ],
   "source": [
    "def cat2num(df_tr_,df_te_,cat_var,target,\n",
    "           k=5.0,\n",
    "           f=1.0,\n",
    "           r_k = 0.01,\n",
    "           g = 1.0):\n",
    "    #example: cat_var = 'building_id', target='medium'\n",
    "    dftrain = df_tr_.copy()\n",
    "    dftest = df_te_.copy()\n",
    "    \n",
    "    global_avg = dftrain[target].sum()*1.0/len(dftrain)\n",
    "    gp = dftrain.groupby(cat_var)\n",
    "    cat_avg = gp[target].agg({'avg':np.mean,\n",
    "                             'cnt':lambda x:len(x)})\n",
    "    cat_avg = cat_avg.reset_index()\n",
    "    cat_avg['beta'] = cat_avg['cnt'].map(lambda x:1./(g+np.exp((x-k)/f)) if x<200 else 0.)\n",
    "    \n",
    "    cat_avg['cat2num'] = cat_avg['avg']*(1-cat_avg['beta']) + global_avg*cat_avg['beta']\n",
    "    dftest = pd.merge(dftest,cat_avg[[cat_var,'cat2num']],on=cat_var,how='left')\n",
    "    dftest['cat2num'] = dftest['cat2num'].fillna(global_avg)\n",
    "    \n",
    "    return dftest['cat2num'].as_matrix()\n",
    "\n",
    "def categorical_average(Xtrain_,Xtest_,variable,target):\n",
    "    global feature_params\n",
    "                   \n",
    "    X_train = Xtrain_.copy()\n",
    "    X_test = Xtest_.copy()\n",
    "    \n",
    "    k_fold = StratifiedKFold(feature_params['category_nfold'],shuffle=True,random_state=222)\n",
    "    fea_name = variable + '_' + target\n",
    "    fea_train = np.zeros(len(X_train))\n",
    "    fea_test = np.zeros(len(X_test))\n",
    "    \n",
    "    for train_inx,cv_inx in k_fold.split(np.zeros((len(X_train),2)),X_train['interest_level'].ravel()):\n",
    "        fea_train[cv_inx] = cat2num(X_train.iloc[train_inx,:],X_train.iloc[cv_inx,:],variable,target)\n",
    "    \n",
    "    X_train[fea_name] = fea_train\n",
    "    X_test.loc[:,fea_name] = cat2num(X_train,X_test,variable,target)\n",
    "    return X_train,X_test,fea_name\n",
    "\n",
    "def transform_categorical(xtrain_,xtest_):\n",
    "    Xtrain,Xtest = prepare_categorical(xtrain_,xtest_)\n",
    "    \n",
    "    categorical = ['building_id', 'manager_id', 'display_address']\n",
    "    fea_list = categorical\n",
    "    for f in categorical:\n",
    "        encoder = preprocessing.LabelEncoder()\n",
    "        encoder.fit(list(Xtrain[f]) + list(Xtest[f])) \n",
    "        Xtrain[f] = encoder.transform(Xtrain[f].ravel())\n",
    "        Xtest[f] = encoder.transform(Xtest[f].ravel())\n",
    "    \n",
    "    Xtrain['low'] = 0\n",
    "    Xtrain.loc[Xtrain['interest_level'] == 0, 'low'] = 1\n",
    "    Xtrain['medium'] = 0\n",
    "    Xtrain.loc[Xtrain['interest_level'] == 1, 'medium'] = 1\n",
    "    Xtrain['high'] = 0\n",
    "    Xtrain.loc[Xtrain['interest_level'] == 2, 'high'] = 1\n",
    "    \n",
    "    for col in [\"building_id\", \"manager_id\"]:        \n",
    "        Xtrain,Xtest,fea1 = categorical_average(Xtrain,Xtest,col, \"medium\")\n",
    "        Xtrain,Xtest,fea2 = categorical_average(Xtrain,Xtest,col, \"high\")\n",
    "        fea_list += [fea1,fea2]\n",
    "    \n",
    "    \n",
    "    return Xtrain,Xtest,fea_list    "
   ]
  },
  {
   "cell_type": "code",
   "execution_count": null,
   "metadata": {
    "collapsed": true
   },
   "outputs": [],
   "source": []
  },
  {
   "cell_type": "code",
   "execution_count": null,
   "metadata": {
    "collapsed": true
   },
   "outputs": [],
   "source": []
  },
  {
   "cell_type": "code",
   "execution_count": null,
   "metadata": {
    "collapsed": true
   },
   "outputs": [],
   "source": []
  }
 ],
 "metadata": {
  "kernelspec": {
   "display_name": "Python 2",
   "language": "python",
   "name": "python2"
  },
  "language_info": {
   "codemirror_mode": {
    "name": "ipython",
    "version": 2
   },
   "file_extension": ".py",
   "mimetype": "text/x-python",
   "name": "python",
   "nbconvert_exporter": "python",
   "pygments_lexer": "ipython2",
   "version": "2.7.13"
  }
 },
 "nbformat": 4,
 "nbformat_minor": 2
}
